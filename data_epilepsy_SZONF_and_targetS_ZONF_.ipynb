{
  "nbformat": 4,
  "nbformat_minor": 0,
  "metadata": {
    "colab": {
      "name": " data_epilepsy .SZONF and targetS-ZONF  .ipynb",
      "provenance": [],
      "toc_visible": true
    },
    "kernelspec": {
      "name": "python3",
      "display_name": "Python 3"
    },
    "language_info": {
      "name": "python"
    }
  },
  "cells": [
    {
      "cell_type": "code",
      "metadata": {
        "id": "-qViKsQ96hEe"
      },
      "source": [
        "import pandas as pd\n",
        "import numpy as np \n",
        "#for data visualization\n",
        "import seaborn as sns\n",
        "import matplotlib.pyplot as plt\n",
        "%matplotlib inline\n",
        "\n",
        "#for evaluation\n",
        "from sklearn.metrics import mean_absolute_error, r2_score, classification_report,confusion_matrix , accuracy_score, f1_score\n",
        "import time\n",
        "import warnings\n",
        "warnings.filterwarnings('ignore')"
      ],
      "execution_count": null,
      "outputs": []
    },
    {
      "cell_type": "code",
      "metadata": {
        "colab": {
          "base_uri": "https://localhost:8080/",
          "height": 263
        },
        "id": "WJVePPyq62vL",
        "outputId": "bfce7cca-08fe-4dce-ed90-d4e212e28957"
      },
      "source": [
        "df = pd.read_excel('/content/data_epilepsy.xlsx',sheet_name='SZONF')\n",
        "df.head()"
      ],
      "execution_count": null,
      "outputs": [
        {
          "output_type": "execute_result",
          "data": {
            "text/html": [
              "<div>\n",
              "<style scoped>\n",
              "    .dataframe tbody tr th:only-of-type {\n",
              "        vertical-align: middle;\n",
              "    }\n",
              "\n",
              "    .dataframe tbody tr th {\n",
              "        vertical-align: top;\n",
              "    }\n",
              "\n",
              "    .dataframe thead th {\n",
              "        text-align: right;\n",
              "    }\n",
              "</style>\n",
              "<table border=\"1\" class=\"dataframe\">\n",
              "  <thead>\n",
              "    <tr style=\"text-align: right;\">\n",
              "      <th></th>\n",
              "      <th>Unnamed: 0</th>\n",
              "      <th>Unnamed: 1</th>\n",
              "      <th>Unnamed: 2</th>\n",
              "      <th>Unnamed: 3</th>\n",
              "      <th>Unnamed: 4</th>\n",
              "      <th>Unnamed: 5</th>\n",
              "      <th>Unnamed: 6</th>\n",
              "      <th>Unnamed: 7</th>\n",
              "      <th>Unnamed: 8</th>\n",
              "      <th>Unnamed: 9</th>\n",
              "      <th>Unnamed: 10</th>\n",
              "      <th>Unnamed: 11</th>\n",
              "      <th>Unnamed: 12</th>\n",
              "      <th>Unnamed: 13</th>\n",
              "      <th>Unnamed: 14</th>\n",
              "      <th>Unnamed: 15</th>\n",
              "      <th>Unnamed: 16</th>\n",
              "      <th>Unnamed: 17</th>\n",
              "      <th>Unnamed: 18</th>\n",
              "      <th>Unnamed: 19</th>\n",
              "      <th>Unnamed: 20</th>\n",
              "      <th>Unnamed: 21</th>\n",
              "      <th>Unnamed: 22</th>\n",
              "      <th>Unnamed: 23</th>\n",
              "      <th>Unnamed: 24</th>\n",
              "      <th>Unnamed: 25</th>\n",
              "      <th>Unnamed: 26</th>\n",
              "      <th>Unnamed: 27</th>\n",
              "      <th>Unnamed: 28</th>\n",
              "      <th>Unnamed: 29</th>\n",
              "      <th>Unnamed: 30</th>\n",
              "      <th>Unnamed: 31</th>\n",
              "      <th>Unnamed: 32</th>\n",
              "      <th>Unnamed: 33</th>\n",
              "      <th>Unnamed: 34</th>\n",
              "      <th>Unnamed: 35</th>\n",
              "      <th>Unnamed: 36</th>\n",
              "      <th>Unnamed: 37</th>\n",
              "      <th>Unnamed: 38</th>\n",
              "      <th>Unnamed: 39</th>\n",
              "      <th>...</th>\n",
              "      <th>Unnamed: 4057</th>\n",
              "      <th>Unnamed: 4058</th>\n",
              "      <th>Unnamed: 4059</th>\n",
              "      <th>Unnamed: 4060</th>\n",
              "      <th>Unnamed: 4061</th>\n",
              "      <th>Unnamed: 4062</th>\n",
              "      <th>Unnamed: 4063</th>\n",
              "      <th>Unnamed: 4064</th>\n",
              "      <th>Unnamed: 4065</th>\n",
              "      <th>Unnamed: 4066</th>\n",
              "      <th>Unnamed: 4067</th>\n",
              "      <th>Unnamed: 4068</th>\n",
              "      <th>Unnamed: 4069</th>\n",
              "      <th>Unnamed: 4070</th>\n",
              "      <th>Unnamed: 4071</th>\n",
              "      <th>Unnamed: 4072</th>\n",
              "      <th>Unnamed: 4073</th>\n",
              "      <th>Unnamed: 4074</th>\n",
              "      <th>Unnamed: 4075</th>\n",
              "      <th>Unnamed: 4076</th>\n",
              "      <th>Unnamed: 4077</th>\n",
              "      <th>Unnamed: 4078</th>\n",
              "      <th>Unnamed: 4079</th>\n",
              "      <th>Unnamed: 4080</th>\n",
              "      <th>Unnamed: 4081</th>\n",
              "      <th>Unnamed: 4082</th>\n",
              "      <th>Unnamed: 4083</th>\n",
              "      <th>Unnamed: 4084</th>\n",
              "      <th>Unnamed: 4085</th>\n",
              "      <th>Unnamed: 4086</th>\n",
              "      <th>Unnamed: 4087</th>\n",
              "      <th>Unnamed: 4088</th>\n",
              "      <th>Unnamed: 4089</th>\n",
              "      <th>Unnamed: 4090</th>\n",
              "      <th>Unnamed: 4091</th>\n",
              "      <th>Unnamed: 4092</th>\n",
              "      <th>Unnamed: 4093</th>\n",
              "      <th>Unnamed: 4094</th>\n",
              "      <th>Unnamed: 4095</th>\n",
              "      <th>Unnamed: 4096</th>\n",
              "    </tr>\n",
              "  </thead>\n",
              "  <tbody>\n",
              "    <tr>\n",
              "      <th>0</th>\n",
              "      <td>100</td>\n",
              "      <td>124</td>\n",
              "      <td>153</td>\n",
              "      <td>185</td>\n",
              "      <td>210</td>\n",
              "      <td>220</td>\n",
              "      <td>216</td>\n",
              "      <td>222</td>\n",
              "      <td>240</td>\n",
              "      <td>265</td>\n",
              "      <td>298</td>\n",
              "      <td>330</td>\n",
              "      <td>362</td>\n",
              "      <td>381</td>\n",
              "      <td>391</td>\n",
              "      <td>390</td>\n",
              "      <td>390</td>\n",
              "      <td>392</td>\n",
              "      <td>395</td>\n",
              "      <td>397</td>\n",
              "      <td>397</td>\n",
              "      <td>393</td>\n",
              "      <td>380</td>\n",
              "      <td>356</td>\n",
              "      <td>334</td>\n",
              "      <td>322</td>\n",
              "      <td>320</td>\n",
              "      <td>322</td>\n",
              "      <td>338</td>\n",
              "      <td>332</td>\n",
              "      <td>317</td>\n",
              "      <td>263</td>\n",
              "      <td>195</td>\n",
              "      <td>142</td>\n",
              "      <td>108</td>\n",
              "      <td>97</td>\n",
              "      <td>80</td>\n",
              "      <td>80</td>\n",
              "      <td>85</td>\n",
              "      <td>39</td>\n",
              "      <td>...</td>\n",
              "      <td>516</td>\n",
              "      <td>592</td>\n",
              "      <td>650</td>\n",
              "      <td>667</td>\n",
              "      <td>637</td>\n",
              "      <td>574</td>\n",
              "      <td>505</td>\n",
              "      <td>450</td>\n",
              "      <td>413</td>\n",
              "      <td>399</td>\n",
              "      <td>414</td>\n",
              "      <td>448</td>\n",
              "      <td>486</td>\n",
              "      <td>449</td>\n",
              "      <td>291</td>\n",
              "      <td>-46</td>\n",
              "      <td>-457</td>\n",
              "      <td>-878</td>\n",
              "      <td>-1178</td>\n",
              "      <td>-1324</td>\n",
              "      <td>-1310</td>\n",
              "      <td>-1105</td>\n",
              "      <td>-770</td>\n",
              "      <td>-345</td>\n",
              "      <td>42</td>\n",
              "      <td>315</td>\n",
              "      <td>465</td>\n",
              "      <td>513</td>\n",
              "      <td>478</td>\n",
              "      <td>378</td>\n",
              "      <td>250</td>\n",
              "      <td>137</td>\n",
              "      <td>57</td>\n",
              "      <td>17</td>\n",
              "      <td>0</td>\n",
              "      <td>7</td>\n",
              "      <td>26</td>\n",
              "      <td>57</td>\n",
              "      <td>95</td>\n",
              "      <td>462</td>\n",
              "    </tr>\n",
              "    <tr>\n",
              "      <th>1</th>\n",
              "      <td>340</td>\n",
              "      <td>353</td>\n",
              "      <td>400</td>\n",
              "      <td>470</td>\n",
              "      <td>538</td>\n",
              "      <td>590</td>\n",
              "      <td>611</td>\n",
              "      <td>629</td>\n",
              "      <td>649</td>\n",
              "      <td>693</td>\n",
              "      <td>759</td>\n",
              "      <td>837</td>\n",
              "      <td>812</td>\n",
              "      <td>684</td>\n",
              "      <td>389</td>\n",
              "      <td>-231</td>\n",
              "      <td>-1250</td>\n",
              "      <td>-1768</td>\n",
              "      <td>-1816</td>\n",
              "      <td>-1637</td>\n",
              "      <td>-984</td>\n",
              "      <td>-476</td>\n",
              "      <td>-224</td>\n",
              "      <td>-14</td>\n",
              "      <td>165</td>\n",
              "      <td>314</td>\n",
              "      <td>408</td>\n",
              "      <td>454</td>\n",
              "      <td>467</td>\n",
              "      <td>437</td>\n",
              "      <td>412</td>\n",
              "      <td>379</td>\n",
              "      <td>376</td>\n",
              "      <td>339</td>\n",
              "      <td>302</td>\n",
              "      <td>248</td>\n",
              "      <td>200</td>\n",
              "      <td>174</td>\n",
              "      <td>144</td>\n",
              "      <td>152</td>\n",
              "      <td>...</td>\n",
              "      <td>304</td>\n",
              "      <td>254</td>\n",
              "      <td>82</td>\n",
              "      <td>-174</td>\n",
              "      <td>-467</td>\n",
              "      <td>-537</td>\n",
              "      <td>-450</td>\n",
              "      <td>-178</td>\n",
              "      <td>64</td>\n",
              "      <td>274</td>\n",
              "      <td>464</td>\n",
              "      <td>496</td>\n",
              "      <td>571</td>\n",
              "      <td>467</td>\n",
              "      <td>299</td>\n",
              "      <td>130</td>\n",
              "      <td>28</td>\n",
              "      <td>82</td>\n",
              "      <td>270</td>\n",
              "      <td>597</td>\n",
              "      <td>886</td>\n",
              "      <td>1071</td>\n",
              "      <td>1166</td>\n",
              "      <td>1146</td>\n",
              "      <td>1000</td>\n",
              "      <td>773</td>\n",
              "      <td>423</td>\n",
              "      <td>118</td>\n",
              "      <td>-75</td>\n",
              "      <td>-18</td>\n",
              "      <td>205</td>\n",
              "      <td>556</td>\n",
              "      <td>824</td>\n",
              "      <td>919</td>\n",
              "      <td>916</td>\n",
              "      <td>829</td>\n",
              "      <td>722</td>\n",
              "      <td>512</td>\n",
              "      <td>130</td>\n",
              "      <td>196</td>\n",
              "    </tr>\n",
              "    <tr>\n",
              "      <th>2</th>\n",
              "      <td>-310</td>\n",
              "      <td>93</td>\n",
              "      <td>494</td>\n",
              "      <td>789</td>\n",
              "      <td>798</td>\n",
              "      <td>552</td>\n",
              "      <td>202</td>\n",
              "      <td>-95</td>\n",
              "      <td>-262</td>\n",
              "      <td>-327</td>\n",
              "      <td>-420</td>\n",
              "      <td>-483</td>\n",
              "      <td>-508</td>\n",
              "      <td>-502</td>\n",
              "      <td>-459</td>\n",
              "      <td>-376</td>\n",
              "      <td>-266</td>\n",
              "      <td>-113</td>\n",
              "      <td>18</td>\n",
              "      <td>98</td>\n",
              "      <td>135</td>\n",
              "      <td>154</td>\n",
              "      <td>163</td>\n",
              "      <td>174</td>\n",
              "      <td>186</td>\n",
              "      <td>196</td>\n",
              "      <td>208</td>\n",
              "      <td>216</td>\n",
              "      <td>218</td>\n",
              "      <td>208</td>\n",
              "      <td>200</td>\n",
              "      <td>197</td>\n",
              "      <td>197</td>\n",
              "      <td>201</td>\n",
              "      <td>211</td>\n",
              "      <td>224</td>\n",
              "      <td>239</td>\n",
              "      <td>246</td>\n",
              "      <td>252</td>\n",
              "      <td>261</td>\n",
              "      <td>...</td>\n",
              "      <td>-21</td>\n",
              "      <td>-12</td>\n",
              "      <td>29</td>\n",
              "      <td>75</td>\n",
              "      <td>111</td>\n",
              "      <td>145</td>\n",
              "      <td>168</td>\n",
              "      <td>169</td>\n",
              "      <td>150</td>\n",
              "      <td>113</td>\n",
              "      <td>106</td>\n",
              "      <td>137</td>\n",
              "      <td>204</td>\n",
              "      <td>291</td>\n",
              "      <td>388</td>\n",
              "      <td>477</td>\n",
              "      <td>546</td>\n",
              "      <td>574</td>\n",
              "      <td>546</td>\n",
              "      <td>467</td>\n",
              "      <td>360</td>\n",
              "      <td>255</td>\n",
              "      <td>164</td>\n",
              "      <td>123</td>\n",
              "      <td>126</td>\n",
              "      <td>184</td>\n",
              "      <td>312</td>\n",
              "      <td>410</td>\n",
              "      <td>470</td>\n",
              "      <td>496</td>\n",
              "      <td>437</td>\n",
              "      <td>345</td>\n",
              "      <td>108</td>\n",
              "      <td>-216</td>\n",
              "      <td>-525</td>\n",
              "      <td>-735</td>\n",
              "      <td>-847</td>\n",
              "      <td>-721</td>\n",
              "      <td>-491</td>\n",
              "      <td>910</td>\n",
              "    </tr>\n",
              "    <tr>\n",
              "      <th>3</th>\n",
              "      <td>84</td>\n",
              "      <td>75</td>\n",
              "      <td>21</td>\n",
              "      <td>-68</td>\n",
              "      <td>-138</td>\n",
              "      <td>-184</td>\n",
              "      <td>-197</td>\n",
              "      <td>-186</td>\n",
              "      <td>-155</td>\n",
              "      <td>-111</td>\n",
              "      <td>-58</td>\n",
              "      <td>-26</td>\n",
              "      <td>-18</td>\n",
              "      <td>-18</td>\n",
              "      <td>-40</td>\n",
              "      <td>-56</td>\n",
              "      <td>-35</td>\n",
              "      <td>35</td>\n",
              "      <td>149</td>\n",
              "      <td>253</td>\n",
              "      <td>298</td>\n",
              "      <td>282</td>\n",
              "      <td>232</td>\n",
              "      <td>161</td>\n",
              "      <td>96</td>\n",
              "      <td>71</td>\n",
              "      <td>64</td>\n",
              "      <td>70</td>\n",
              "      <td>35</td>\n",
              "      <td>-45</td>\n",
              "      <td>-116</td>\n",
              "      <td>-169</td>\n",
              "      <td>-192</td>\n",
              "      <td>-196</td>\n",
              "      <td>-173</td>\n",
              "      <td>-131</td>\n",
              "      <td>-82</td>\n",
              "      <td>-38</td>\n",
              "      <td>-8</td>\n",
              "      <td>-4</td>\n",
              "      <td>...</td>\n",
              "      <td>-91</td>\n",
              "      <td>-191</td>\n",
              "      <td>-246</td>\n",
              "      <td>-261</td>\n",
              "      <td>-248</td>\n",
              "      <td>-228</td>\n",
              "      <td>-197</td>\n",
              "      <td>-172</td>\n",
              "      <td>-150</td>\n",
              "      <td>-133</td>\n",
              "      <td>-123</td>\n",
              "      <td>-113</td>\n",
              "      <td>-109</td>\n",
              "      <td>-93</td>\n",
              "      <td>-71</td>\n",
              "      <td>-54</td>\n",
              "      <td>-42</td>\n",
              "      <td>-32</td>\n",
              "      <td>-17</td>\n",
              "      <td>29</td>\n",
              "      <td>110</td>\n",
              "      <td>200</td>\n",
              "      <td>271</td>\n",
              "      <td>285</td>\n",
              "      <td>236</td>\n",
              "      <td>142</td>\n",
              "      <td>50</td>\n",
              "      <td>-15</td>\n",
              "      <td>-61</td>\n",
              "      <td>-83</td>\n",
              "      <td>-119</td>\n",
              "      <td>-148</td>\n",
              "      <td>-171</td>\n",
              "      <td>-195</td>\n",
              "      <td>-218</td>\n",
              "      <td>-234</td>\n",
              "      <td>-238</td>\n",
              "      <td>-209</td>\n",
              "      <td>-165</td>\n",
              "      <td>-212</td>\n",
              "    </tr>\n",
              "    <tr>\n",
              "      <th>4</th>\n",
              "      <td>343</td>\n",
              "      <td>311</td>\n",
              "      <td>284</td>\n",
              "      <td>274</td>\n",
              "      <td>260</td>\n",
              "      <td>237</td>\n",
              "      <td>165</td>\n",
              "      <td>-33</td>\n",
              "      <td>-271</td>\n",
              "      <td>-425</td>\n",
              "      <td>-418</td>\n",
              "      <td>-254</td>\n",
              "      <td>-104</td>\n",
              "      <td>-14</td>\n",
              "      <td>16</td>\n",
              "      <td>24</td>\n",
              "      <td>23</td>\n",
              "      <td>11</td>\n",
              "      <td>4</td>\n",
              "      <td>20</td>\n",
              "      <td>40</td>\n",
              "      <td>67</td>\n",
              "      <td>99</td>\n",
              "      <td>127</td>\n",
              "      <td>130</td>\n",
              "      <td>126</td>\n",
              "      <td>133</td>\n",
              "      <td>124</td>\n",
              "      <td>108</td>\n",
              "      <td>54</td>\n",
              "      <td>-5</td>\n",
              "      <td>-45</td>\n",
              "      <td>-61</td>\n",
              "      <td>-65</td>\n",
              "      <td>-52</td>\n",
              "      <td>-46</td>\n",
              "      <td>-25</td>\n",
              "      <td>-15</td>\n",
              "      <td>-4</td>\n",
              "      <td>-12</td>\n",
              "      <td>...</td>\n",
              "      <td>2</td>\n",
              "      <td>-70</td>\n",
              "      <td>-118</td>\n",
              "      <td>-155</td>\n",
              "      <td>-201</td>\n",
              "      <td>-283</td>\n",
              "      <td>-368</td>\n",
              "      <td>-363</td>\n",
              "      <td>-333</td>\n",
              "      <td>-271</td>\n",
              "      <td>-203</td>\n",
              "      <td>-126</td>\n",
              "      <td>-31</td>\n",
              "      <td>48</td>\n",
              "      <td>86</td>\n",
              "      <td>102</td>\n",
              "      <td>124</td>\n",
              "      <td>125</td>\n",
              "      <td>132</td>\n",
              "      <td>144</td>\n",
              "      <td>187</td>\n",
              "      <td>263</td>\n",
              "      <td>343</td>\n",
              "      <td>411</td>\n",
              "      <td>433</td>\n",
              "      <td>417</td>\n",
              "      <td>397</td>\n",
              "      <td>395</td>\n",
              "      <td>414</td>\n",
              "      <td>435</td>\n",
              "      <td>439</td>\n",
              "      <td>428</td>\n",
              "      <td>423</td>\n",
              "      <td>430</td>\n",
              "      <td>472</td>\n",
              "      <td>515</td>\n",
              "      <td>527</td>\n",
              "      <td>480</td>\n",
              "      <td>397</td>\n",
              "      <td>217</td>\n",
              "    </tr>\n",
              "  </tbody>\n",
              "</table>\n",
              "<p>5 rows × 4097 columns</p>\n",
              "</div>"
            ],
            "text/plain": [
              "   Unnamed: 0  Unnamed: 1  ...  Unnamed: 4095  Unnamed: 4096\n",
              "0         100         124  ...             95            462\n",
              "1         340         353  ...            130            196\n",
              "2        -310          93  ...           -491            910\n",
              "3          84          75  ...           -165           -212\n",
              "4         343         311  ...            397            217\n",
              "\n",
              "[5 rows x 4097 columns]"
            ]
          },
          "metadata": {
            "tags": []
          },
          "execution_count": 2
        }
      ]
    },
    {
      "cell_type": "code",
      "metadata": {
        "id": "51tBQYnd6-8K"
      },
      "source": [
        "target = pd.read_excel('/content/data_epilepsy.xlsx',sheet_name='targetS-ZONF')"
      ],
      "execution_count": null,
      "outputs": []
    },
    {
      "cell_type": "code",
      "metadata": {
        "colab": {
          "base_uri": "https://localhost:8080/"
        },
        "id": "EQ-HBZ4p7K7D",
        "outputId": "9b66026a-ff9b-4379-eb54-e4eba9ec4922"
      },
      "source": [
        "from sklearn.preprocessing import StandardScaler\n",
        "scaler = StandardScaler()\n",
        "scaler.fit(df)"
      ],
      "execution_count": null,
      "outputs": [
        {
          "output_type": "execute_result",
          "data": {
            "text/plain": [
              "StandardScaler(copy=True, with_mean=True, with_std=True)"
            ]
          },
          "metadata": {
            "tags": []
          },
          "execution_count": 44
        }
      ]
    },
    {
      "cell_type": "code",
      "metadata": {
        "id": "MK0dpJAD7K3F"
      },
      "source": [
        "scaled_data = scaler.transform(df)"
      ],
      "execution_count": null,
      "outputs": []
    },
    {
      "cell_type": "code",
      "metadata": {
        "id": "5UHrrCoz7KzF"
      },
      "source": [
        "from sklearn.decomposition import PCA"
      ],
      "execution_count": null,
      "outputs": []
    },
    {
      "cell_type": "code",
      "metadata": {
        "id": "xU_WgJ3C7KwT"
      },
      "source": [
        "pca = PCA(n_components=3)"
      ],
      "execution_count": null,
      "outputs": []
    },
    {
      "cell_type": "code",
      "metadata": {
        "colab": {
          "base_uri": "https://localhost:8080/"
        },
        "id": "NPkZlKa_7Ksx",
        "outputId": "68ff19de-306b-4576-e26e-396a9720631d"
      },
      "source": [
        "pca.fit(scaled_data)"
      ],
      "execution_count": null,
      "outputs": [
        {
          "output_type": "execute_result",
          "data": {
            "text/plain": [
              "PCA(copy=True, iterated_power='auto', n_components=3, random_state=None,\n",
              "    svd_solver='auto', tol=0.0, whiten=False)"
            ]
          },
          "metadata": {
            "tags": []
          },
          "execution_count": 48
        }
      ]
    },
    {
      "cell_type": "code",
      "metadata": {
        "id": "JxEiAlxx7Kmo"
      },
      "source": [
        "x_pca = pca.transform(scaled_data)"
      ],
      "execution_count": null,
      "outputs": []
    },
    {
      "cell_type": "code",
      "metadata": {
        "colab": {
          "base_uri": "https://localhost:8080/"
        },
        "id": "lWWFXjW_7KZ-",
        "outputId": "7b773522-328e-4875-e70b-c4726c084c96"
      },
      "source": [
        "scaled_data.shape"
      ],
      "execution_count": null,
      "outputs": [
        {
          "output_type": "execute_result",
          "data": {
            "text/plain": [
              "(500, 4097)"
            ]
          },
          "metadata": {
            "tags": []
          },
          "execution_count": 50
        }
      ]
    },
    {
      "cell_type": "code",
      "metadata": {
        "colab": {
          "base_uri": "https://localhost:8080/"
        },
        "id": "Uv7CppSq7KXl",
        "outputId": "f30978ac-2e6d-4909-f5cb-1e0fed375130"
      },
      "source": [
        "x_pca.shape"
      ],
      "execution_count": null,
      "outputs": [
        {
          "output_type": "execute_result",
          "data": {
            "text/plain": [
              "(500, 3)"
            ]
          },
          "metadata": {
            "tags": []
          },
          "execution_count": 51
        }
      ]
    },
    {
      "cell_type": "code",
      "metadata": {
        "colab": {
          "base_uri": "https://localhost:8080/",
          "height": 405
        },
        "id": "Zsx26xoX7KUs",
        "outputId": "76ca9efc-1bc1-4e38-82a8-0f248b018323"
      },
      "source": [
        "plt.figure(figsize=(8,6))\n",
        "plt.scatter(x_pca[:,0],x_pca[:,1],c=df['Unnamed: 1'],cmap='plasma')\n",
        "plt.xlabel('First principal component')\n",
        "plt.ylabel('Second principal component')"
      ],
      "execution_count": null,
      "outputs": [
        {
          "output_type": "execute_result",
          "data": {
            "text/plain": [
              "Text(0, 0.5, 'Second principal component')"
            ]
          },
          "metadata": {
            "tags": []
          },
          "execution_count": 52
        },
        {
          "output_type": "display_data",
          "data": {
            "image/png": "[encoded data removed]",
            "text/plain": [
              "<Figure size 576x432 with 1 Axes>"
            ]
          },
          "metadata": {
            "tags": [],
            "needs_background": "light"
          }
        }
      ]
    },
    {
      "cell_type": "code",
      "metadata": {
        "id": "Tz2L1ASN7KSS"
      },
      "source": [
        "x=df.iloc[:,0:]\n",
        "y=target"
      ],
      "execution_count": null,
      "outputs": []
    },
    {
      "cell_type": "code",
      "metadata": {
        "id": "HwVR_wVL7KPa"
      },
      "source": [
        "from sklearn.model_selection import train_test_split\n",
        "x_Train,x_Test,y_Train,y_Test =train_test_split(x,y,train_size =.8)"
      ],
      "execution_count": null,
      "outputs": []
    },
    {
      "cell_type": "markdown",
      "metadata": {
        "id": "oxLEEPRNOrUi"
      },
      "source": [
        "#DecisionTreeClassifier"
      ]
    },
    {
      "cell_type": "code",
      "metadata": {
        "id": "AprxoYkE7KM8"
      },
      "source": [
        "from sklearn.tree import DecisionTreeClassifier\n",
        "model=DecisionTreeClassifier()"
      ],
      "execution_count": null,
      "outputs": []
    },
    {
      "cell_type": "code",
      "metadata": {
        "id": "NLIIb7yS7KKr"
      },
      "source": [
        "import numpy as np\n",
        "from sklearn.utils.multiclass import is_multilabel"
      ],
      "execution_count": null,
      "outputs": []
    },
    {
      "cell_type": "code",
      "metadata": {
        "colab": {
          "base_uri": "https://localhost:8080/"
        },
        "id": "Bv9bakoY7KH1",
        "outputId": "3839fbad-c092-4010-d550-8c1907931f04"
      },
      "source": [
        "model.fit(x_Train,y_Train)"
      ],
      "execution_count": null,
      "outputs": [
        {
          "output_type": "execute_result",
          "data": {
            "text/plain": [
              "DecisionTreeClassifier(ccp_alpha=0.0, class_weight=None, criterion='gini',\n",
              "                       max_depth=None, max_features=None, max_leaf_nodes=None,\n",
              "                       min_impurity_decrease=0.0, min_impurity_split=None,\n",
              "                       min_samples_leaf=1, min_samples_split=2,\n",
              "                       min_weight_fraction_leaf=0.0, presort='deprecated',\n",
              "                       random_state=None, splitter='best')"
            ]
          },
          "metadata": {
            "tags": []
          },
          "execution_count": 57
        }
      ]
    },
    {
      "cell_type": "code",
      "metadata": {
        "colab": {
          "base_uri": "https://localhost:8080/"
        },
        "id": "HLR3KAxU7KFU",
        "outputId": "6c93218d-0bbf-4c5a-b3df-90cc88b79229"
      },
      "source": [
        "# Necessary imports\n",
        "from scipy.stats import randint\n",
        "from sklearn.tree import DecisionTreeClassifier\n",
        "from sklearn.model_selection import RandomizedSearchCV\n",
        "\n",
        "# Creating the hyperparameter grid \n",
        "param_dist = {\"max_depth\": [3, None],\n",
        "              \"max_features\": randint(1, 9),\n",
        "              \"min_samples_leaf\": randint(1, 9),\n",
        "              \"criterion\": [\"gini\", \"entropy\"]}\n",
        "\n",
        "# Instantiating Decision Tree classifier\n",
        "tree = DecisionTreeClassifier()\n",
        "\n",
        "\n",
        "# Instantiating RandomizedSearchCV object\n",
        "tree_cv = RandomizedSearchCV(tree, param_dist, cv = 5)\n",
        "\n",
        "tree_cv.fit(x_Train, y_Train)\n",
        "  \n",
        "# Print the tuned parameters and score\n",
        "print(\"Tuned Decision Tree Parameters: {}\".format(tree_cv.best_params_))\n",
        "print(\"Best score is {}\".format(tree_cv.best_score_))"
      ],
      "execution_count": null,
      "outputs": [
        {
          "output_type": "stream",
          "text": [
            "Tuned Decision Tree Parameters: {'criterion': 'entropy', 'max_depth': None, 'max_features': 8, 'min_samples_leaf': 5}\n",
            "Best score is 0.9199999999999999\n"
          ],
          "name": "stdout"
        }
      ]
    },
    {
      "cell_type": "code",
      "metadata": {
        "colab": {
          "base_uri": "https://localhost:8080/"
        },
        "id": "660lZUHF7KB7",
        "outputId": "faacddb7-e2a4-4ae8-bca1-22bf531a7120"
      },
      "source": [
        "y_pred = tree_cv.predict(x_Test)\n",
        "y_pred"
      ],
      "execution_count": null,
      "outputs": [
        {
          "output_type": "execute_result",
          "data": {
            "text/plain": [
              "array([0, 0, 0, 0, 0, 0, 0, 0, 0, 1, 0, 0, 1, 1, 0, 0, 0, 0, 0, 0, 1, 0,\n",
              "       0, 1, 0, 0, 0, 0, 0, 0, 0, 0, 1, 0, 0, 0, 0, 0, 0, 0, 0, 1, 0, 1,\n",
              "       0, 0, 0, 0, 0, 0, 0, 0, 0, 1, 0, 0, 0, 0, 0, 0, 1, 1, 0, 1, 0, 0,\n",
              "       0, 1, 1, 0, 0, 0, 0, 0, 1, 0, 1, 0, 0, 0, 0, 0, 0, 0, 0, 0, 0, 0,\n",
              "       0, 1, 0, 0, 1, 0, 1, 0, 0, 0, 0, 0])"
            ]
          },
          "metadata": {
            "tags": []
          },
          "execution_count": 59
        }
      ]
    },
    {
      "cell_type": "code",
      "metadata": {
        "colab": {
          "base_uri": "https://localhost:8080/"
        },
        "id": "Z-bqmp9y7J_L",
        "outputId": "3d0cb1e7-b611-4b85-ede8-de8ea736c315"
      },
      "source": [
        "from sklearn.metrics import accuracy_score\n",
        "print(accuracy_score(y_Test,y_pred))"
      ],
      "execution_count": null,
      "outputs": [
        {
          "output_type": "stream",
          "text": [
            "0.89\n"
          ],
          "name": "stdout"
        }
      ]
    },
    {
      "cell_type": "code",
      "metadata": {
        "colab": {
          "base_uri": "https://localhost:8080/"
        },
        "id": "RSY4jF_s7J8R",
        "outputId": "196d147b-a681-4df4-96f2-3ca2351693ec"
      },
      "source": [
        "dtc_acc = accuracy_score(y_Test,y_pred)\n",
        "print(dtc_acc)"
      ],
      "execution_count": null,
      "outputs": [
        {
          "output_type": "stream",
          "text": [
            "0.89\n"
          ],
          "name": "stdout"
        }
      ]
    },
    {
      "cell_type": "code",
      "metadata": {
        "colab": {
          "base_uri": "https://localhost:8080/",
          "height": 31
        },
        "id": "1YJBjJRn7J5T",
        "outputId": "ec3ce828-a663-47bb-a9ff-800f08de617c"
      },
      "source": [
        "results = pd.DataFrame()\n",
        "results"
      ],
      "execution_count": null,
      "outputs": [
        {
          "output_type": "execute_result",
          "data": {
            "text/html": [
              "<div>\n",
              "<style scoped>\n",
              "    .dataframe tbody tr th:only-of-type {\n",
              "        vertical-align: middle;\n",
              "    }\n",
              "\n",
              "    .dataframe tbody tr th {\n",
              "        vertical-align: top;\n",
              "    }\n",
              "\n",
              "    .dataframe thead th {\n",
              "        text-align: right;\n",
              "    }\n",
              "</style>\n",
              "<table border=\"1\" class=\"dataframe\">\n",
              "  <thead>\n",
              "    <tr style=\"text-align: right;\">\n",
              "      <th></th>\n",
              "    </tr>\n",
              "  </thead>\n",
              "  <tbody>\n",
              "  </tbody>\n",
              "</table>\n",
              "</div>"
            ],
            "text/plain": [
              "Empty DataFrame\n",
              "Columns: []\n",
              "Index: []"
            ]
          },
          "metadata": {
            "tags": []
          },
          "execution_count": 62
        }
      ]
    },
    {
      "cell_type": "code",
      "metadata": {
        "colab": {
          "base_uri": "https://localhost:8080/",
          "height": 77
        },
        "id": "iHxtVrBA7J2K",
        "outputId": "455e4fee-0d57-454e-db61-3cc7476f4c45"
      },
      "source": [
        "tempResults = pd.DataFrame({'Algorithm':['Decision tree Classifier Method'], 'Accuracy':[dtc_acc]})\n",
        "results = pd.concat( [results, tempResults] )\n",
        "results = results[['Algorithm','Accuracy']]\n",
        "results"
      ],
      "execution_count": null,
      "outputs": [
        {
          "output_type": "execute_result",
          "data": {
            "text/html": [
              "<div>\n",
              "<style scoped>\n",
              "    .dataframe tbody tr th:only-of-type {\n",
              "        vertical-align: middle;\n",
              "    }\n",
              "\n",
              "    .dataframe tbody tr th {\n",
              "        vertical-align: top;\n",
              "    }\n",
              "\n",
              "    .dataframe thead th {\n",
              "        text-align: right;\n",
              "    }\n",
              "</style>\n",
              "<table border=\"1\" class=\"dataframe\">\n",
              "  <thead>\n",
              "    <tr style=\"text-align: right;\">\n",
              "      <th></th>\n",
              "      <th>Algorithm</th>\n",
              "      <th>Accuracy</th>\n",
              "    </tr>\n",
              "  </thead>\n",
              "  <tbody>\n",
              "    <tr>\n",
              "      <th>0</th>\n",
              "      <td>Decision tree Classifier Method</td>\n",
              "      <td>0.89</td>\n",
              "    </tr>\n",
              "  </tbody>\n",
              "</table>\n",
              "</div>"
            ],
            "text/plain": [
              "                         Algorithm  Accuracy\n",
              "0  Decision tree Classifier Method      0.89"
            ]
          },
          "metadata": {
            "tags": []
          },
          "execution_count": 63
        }
      ]
    },
    {
      "cell_type": "markdown",
      "metadata": {
        "id": "-IqJGqkUOitm"
      },
      "source": [
        "##Logistic Regression"
      ]
    },
    {
      "cell_type": "code",
      "metadata": {
        "colab": {
          "base_uri": "https://localhost:8080/"
        },
        "id": "I0hcbqzBf2ge",
        "outputId": "3de7b8c3-1633-4607-c472-ad45958b1df4"
      },
      "source": [
        "# Necessary imports\n",
        "from sklearn.linear_model import LogisticRegression\n",
        "from sklearn.model_selection import GridSearchCV\n",
        "\n",
        "# Creating the hyperparameter grid\n",
        "c_space = np.logspace(-5, 9, 13)\n",
        "param_grid = {'C': c_space}\n",
        "\n",
        "# Instantiating logistic regression classifier\n",
        "logreg = LogisticRegression()\n",
        "  \n",
        "# Instantiating the GridSearchCV object\n",
        "logreg_cv = GridSearchCV(logreg, param_grid, cv = 6)\n",
        "  \n",
        "logreg_cv.fit(x_Train, y_Train)\n",
        "  \n",
        "# Print the tuned parameters and score\n",
        "print(\"Tuned Logistic Regression Parameters: {}\".format(logreg_cv.best_params_)) \n",
        "print(\"Best score is {}\".format(logreg_cv.best_score_))\n"
      ],
      "execution_count": null,
      "outputs": [
        {
          "output_type": "stream",
          "text": [
            "Tuned Logistic Regression Parameters: {'C': 1e-05}\n",
            "Best score is 0.7929669832654906\n"
          ],
          "name": "stdout"
        }
      ]
    },
    {
      "cell_type": "code",
      "metadata": {
        "id": "cjtpYBGpf7NL"
      },
      "source": [
        "y_pred = logreg_cv.predict(x_Test)"
      ],
      "execution_count": null,
      "outputs": []
    },
    {
      "cell_type": "code",
      "metadata": {
        "colab": {
          "base_uri": "https://localhost:8080/"
        },
        "id": "2RoW-XIQf-LU",
        "outputId": "6912ae28-d598-40c9-b979-431b367cf5e6"
      },
      "source": [
        "y_pred"
      ],
      "execution_count": null,
      "outputs": [
        {
          "output_type": "execute_result",
          "data": {
            "text/plain": [
              "array([0, 0, 0, 0, 0, 0, 0, 1, 1, 0, 0, 1, 1, 1, 1, 1, 1, 0, 0, 0, 1, 0,\n",
              "       0, 1, 0, 0, 0, 0, 0, 0, 0, 0, 0, 0, 1, 0, 0, 0, 0, 0, 0, 0, 0, 1,\n",
              "       0, 0, 1, 0, 1, 1, 0, 0, 0, 1, 0, 0, 0, 0, 0, 0, 1, 0, 0, 1, 0, 0,\n",
              "       0, 0, 1, 0, 0, 0, 0, 0, 1, 0, 0, 0, 0, 0, 0, 0, 0, 0, 0, 0, 0, 0,\n",
              "       0, 0, 0, 0, 1, 1, 1, 1, 0, 1, 0, 0])"
            ]
          },
          "metadata": {
            "tags": []
          },
          "execution_count": 66
        }
      ]
    },
    {
      "cell_type": "code",
      "metadata": {
        "colab": {
          "base_uri": "https://localhost:8080/",
          "height": 406
        },
        "id": "JXqZEbHFf_-O",
        "outputId": "ff687cfe-4edd-4cce-ec95-77070f542216"
      },
      "source": [
        "y_Test"
      ],
      "execution_count": null,
      "outputs": [
        {
          "output_type": "execute_result",
          "data": {
            "text/html": [
              "<div>\n",
              "<style scoped>\n",
              "    .dataframe tbody tr th:only-of-type {\n",
              "        vertical-align: middle;\n",
              "    }\n",
              "\n",
              "    .dataframe tbody tr th {\n",
              "        vertical-align: top;\n",
              "    }\n",
              "\n",
              "    .dataframe thead th {\n",
              "        text-align: right;\n",
              "    }\n",
              "</style>\n",
              "<table border=\"1\" class=\"dataframe\">\n",
              "  <thead>\n",
              "    <tr style=\"text-align: right;\">\n",
              "      <th></th>\n",
              "      <th>target</th>\n",
              "    </tr>\n",
              "  </thead>\n",
              "  <tbody>\n",
              "    <tr>\n",
              "      <th>433</th>\n",
              "      <td>0</td>\n",
              "    </tr>\n",
              "    <tr>\n",
              "      <th>152</th>\n",
              "      <td>0</td>\n",
              "    </tr>\n",
              "    <tr>\n",
              "      <th>257</th>\n",
              "      <td>0</td>\n",
              "    </tr>\n",
              "    <tr>\n",
              "      <th>432</th>\n",
              "      <td>0</td>\n",
              "    </tr>\n",
              "    <tr>\n",
              "      <th>136</th>\n",
              "      <td>0</td>\n",
              "    </tr>\n",
              "    <tr>\n",
              "      <th>...</th>\n",
              "      <td>...</td>\n",
              "    </tr>\n",
              "    <tr>\n",
              "      <th>235</th>\n",
              "      <td>0</td>\n",
              "    </tr>\n",
              "    <tr>\n",
              "      <th>286</th>\n",
              "      <td>0</td>\n",
              "    </tr>\n",
              "    <tr>\n",
              "      <th>28</th>\n",
              "      <td>1</td>\n",
              "    </tr>\n",
              "    <tr>\n",
              "      <th>390</th>\n",
              "      <td>0</td>\n",
              "    </tr>\n",
              "    <tr>\n",
              "      <th>113</th>\n",
              "      <td>0</td>\n",
              "    </tr>\n",
              "  </tbody>\n",
              "</table>\n",
              "<p>100 rows × 1 columns</p>\n",
              "</div>"
            ],
            "text/plain": [
              "     target\n",
              "433       0\n",
              "152       0\n",
              "257       0\n",
              "432       0\n",
              "136       0\n",
              "..      ...\n",
              "235       0\n",
              "286       0\n",
              "28        1\n",
              "390       0\n",
              "113       0\n",
              "\n",
              "[100 rows x 1 columns]"
            ]
          },
          "metadata": {
            "tags": []
          },
          "execution_count": 67
        }
      ]
    },
    {
      "cell_type": "code",
      "metadata": {
        "colab": {
          "base_uri": "https://localhost:8080/"
        },
        "id": "JFhGfkt6gCed",
        "outputId": "e7e84f53-0a60-4f51-9a81-6d3736682185"
      },
      "source": [
        "from sklearn.metrics import accuracy_score\n",
        "print(accuracy_score(y_Test, y_pred))"
      ],
      "execution_count": null,
      "outputs": [
        {
          "output_type": "stream",
          "text": [
            "0.87\n"
          ],
          "name": "stdout"
        }
      ]
    },
    {
      "cell_type": "code",
      "metadata": {
        "colab": {
          "base_uri": "https://localhost:8080/"
        },
        "id": "W_zgVASBgE9h",
        "outputId": "42428f75-c54a-4f29-89cf-1aa56696e9c2"
      },
      "source": [
        "lr_acc = accuracy_score(y_Test, y_pred)\n",
        "print(lr_acc)"
      ],
      "execution_count": null,
      "outputs": [
        {
          "output_type": "stream",
          "text": [
            "0.87\n"
          ],
          "name": "stdout"
        }
      ]
    },
    {
      "cell_type": "code",
      "metadata": {
        "colab": {
          "base_uri": "https://localhost:8080/",
          "height": 107
        },
        "id": "BgMCDZcqgHZj",
        "outputId": "951afa64-d53d-4b4e-ac57-4d5f589219a0"
      },
      "source": [
        "tempResults = pd.DataFrame({'Algorithm':['Logistic Regression Method'], 'Accuracy':[lr_acc]})\n",
        "results = pd.concat( [results, tempResults] )\n",
        "results = results[['Algorithm','Accuracy']]\n",
        "results"
      ],
      "execution_count": null,
      "outputs": [
        {
          "output_type": "execute_result",
          "data": {
            "text/html": [
              "<div>\n",
              "<style scoped>\n",
              "    .dataframe tbody tr th:only-of-type {\n",
              "        vertical-align: middle;\n",
              "    }\n",
              "\n",
              "    .dataframe tbody tr th {\n",
              "        vertical-align: top;\n",
              "    }\n",
              "\n",
              "    .dataframe thead th {\n",
              "        text-align: right;\n",
              "    }\n",
              "</style>\n",
              "<table border=\"1\" class=\"dataframe\">\n",
              "  <thead>\n",
              "    <tr style=\"text-align: right;\">\n",
              "      <th></th>\n",
              "      <th>Algorithm</th>\n",
              "      <th>Accuracy</th>\n",
              "    </tr>\n",
              "  </thead>\n",
              "  <tbody>\n",
              "    <tr>\n",
              "      <th>0</th>\n",
              "      <td>Decision tree Classifier Method</td>\n",
              "      <td>0.89</td>\n",
              "    </tr>\n",
              "    <tr>\n",
              "      <th>0</th>\n",
              "      <td>Logistic Regression Method</td>\n",
              "      <td>0.87</td>\n",
              "    </tr>\n",
              "  </tbody>\n",
              "</table>\n",
              "</div>"
            ],
            "text/plain": [
              "                         Algorithm  Accuracy\n",
              "0  Decision tree Classifier Method      0.89\n",
              "0       Logistic Regression Method      0.87"
            ]
          },
          "metadata": {
            "tags": []
          },
          "execution_count": 70
        }
      ]
    },
    {
      "cell_type": "markdown",
      "metadata": {
        "id": "FYAPtjjggNQB"
      },
      "source": [
        "#SVM-Linear"
      ]
    },
    {
      "cell_type": "code",
      "metadata": {
        "id": "UneVXvtNgJgm"
      },
      "source": [
        "from sklearn import svm\n",
        "\n",
        "#Create a svm Classifier\n",
        "clf = svm.SVC(kernel='linear') # Linear Kernel\n",
        "\n",
        "#Train the model using the training sets\n",
        "clf.fit(x_Train, y_Train)\n",
        "\n",
        "#Predict the response for test dataset\n",
        "y_pred = clf.predict(x_Test)"
      ],
      "execution_count": null,
      "outputs": []
    },
    {
      "cell_type": "code",
      "metadata": {
        "colab": {
          "base_uri": "https://localhost:8080/"
        },
        "id": "ay8d81fHgOru",
        "outputId": "164abe04-7221-4c0f-c31e-5b6a19c94aeb"
      },
      "source": [
        "# Making the Confusion Matrix\n",
        "from sklearn.metrics import confusion_matrix\n",
        "cm = confusion_matrix(y_Test, y_pred)\n",
        "cm"
      ],
      "execution_count": null,
      "outputs": [
        {
          "output_type": "execute_result",
          "data": {
            "text/plain": [
              "array([[80,  0],\n",
              "       [11,  9]])"
            ]
          },
          "metadata": {
            "tags": []
          },
          "execution_count": 72
        }
      ]
    },
    {
      "cell_type": "code",
      "metadata": {
        "colab": {
          "base_uri": "https://localhost:8080/"
        },
        "id": "xi7Sk4F0gdqY",
        "outputId": "5349b5a4-e2f4-4ff5-9efe-a4f1cf85f52b"
      },
      "source": [
        "from sklearn.metrics import accuracy_score\n",
        "print(accuracy_score(y_Test,y_pred))"
      ],
      "execution_count": null,
      "outputs": [
        {
          "output_type": "stream",
          "text": [
            "0.89\n"
          ],
          "name": "stdout"
        }
      ]
    },
    {
      "cell_type": "code",
      "metadata": {
        "colab": {
          "base_uri": "https://localhost:8080/"
        },
        "id": "iia-uMC3gfY1",
        "outputId": "fc3b183d-82b0-4fb4-cac5-f230517d72ac"
      },
      "source": [
        "svm_lin_acc = accuracy_score(y_Test,y_pred)\n",
        "print(svm_lin_acc)"
      ],
      "execution_count": null,
      "outputs": [
        {
          "output_type": "stream",
          "text": [
            "0.89\n"
          ],
          "name": "stdout"
        }
      ]
    },
    {
      "cell_type": "code",
      "metadata": {
        "colab": {
          "base_uri": "https://localhost:8080/",
          "height": 137
        },
        "id": "5_cfkQZdgmXJ",
        "outputId": "bfdee86a-63d3-426e-e661-69e2cd02dfae"
      },
      "source": [
        "tempResults = pd.DataFrame({'Algorithm':['SVM-Linear Karnel Classifier Method'], 'Accuracy':[svm_lin_acc]})\n",
        "results = pd.concat( [results, tempResults] )\n",
        "results = results[['Algorithm','Accuracy']]\n",
        "results"
      ],
      "execution_count": null,
      "outputs": [
        {
          "output_type": "execute_result",
          "data": {
            "text/html": [
              "<div>\n",
              "<style scoped>\n",
              "    .dataframe tbody tr th:only-of-type {\n",
              "        vertical-align: middle;\n",
              "    }\n",
              "\n",
              "    .dataframe tbody tr th {\n",
              "        vertical-align: top;\n",
              "    }\n",
              "\n",
              "    .dataframe thead th {\n",
              "        text-align: right;\n",
              "    }\n",
              "</style>\n",
              "<table border=\"1\" class=\"dataframe\">\n",
              "  <thead>\n",
              "    <tr style=\"text-align: right;\">\n",
              "      <th></th>\n",
              "      <th>Algorithm</th>\n",
              "      <th>Accuracy</th>\n",
              "    </tr>\n",
              "  </thead>\n",
              "  <tbody>\n",
              "    <tr>\n",
              "      <th>0</th>\n",
              "      <td>Decision tree Classifier Method</td>\n",
              "      <td>0.89</td>\n",
              "    </tr>\n",
              "    <tr>\n",
              "      <th>0</th>\n",
              "      <td>Logistic Regression Method</td>\n",
              "      <td>0.87</td>\n",
              "    </tr>\n",
              "    <tr>\n",
              "      <th>0</th>\n",
              "      <td>SVM-Linear Karnel Classifier Method</td>\n",
              "      <td>0.89</td>\n",
              "    </tr>\n",
              "  </tbody>\n",
              "</table>\n",
              "</div>"
            ],
            "text/plain": [
              "                             Algorithm  Accuracy\n",
              "0      Decision tree Classifier Method      0.89\n",
              "0           Logistic Regression Method      0.87\n",
              "0  SVM-Linear Karnel Classifier Method      0.89"
            ]
          },
          "metadata": {
            "tags": []
          },
          "execution_count": 75
        }
      ]
    },
    {
      "cell_type": "markdown",
      "metadata": {
        "id": "XIHgw_NYgrZ4"
      },
      "source": [
        "#KNN"
      ]
    },
    {
      "cell_type": "code",
      "metadata": {
        "colab": {
          "base_uri": "https://localhost:8080/"
        },
        "id": "apF9ZLqTgo_o",
        "outputId": "5f192386-0d32-4f94-885c-3798b7df5ddd"
      },
      "source": [
        "\n",
        "from sklearn.model_selection import GridSearchCV\n",
        "from sklearn.neighbors import KNeighborsClassifier\n",
        "#making the instance\n",
        "model = KNeighborsClassifier(n_jobs=-1)\n",
        "#Hyper Parameters Set\n",
        "params = {'n_neighbors':[9,10,11,12,13,14],\n",
        "          'leaf_size':[5,6,7,8,9],\n",
        "          'weights':['uniform', 'distance'],\n",
        "          'algorithm':['auto', 'ball_tree','kd_tree','brute'],\n",
        "          'n_jobs':[-1]}\n",
        "#Making models with hyper parameters sets\n",
        "model1 = GridSearchCV(model, param_grid=params, n_jobs=1)\n",
        "#Learning\n",
        "model1.fit(x_Train, y_Train)\n",
        "#The best hyper parameters set\n",
        "print(\"Best Hyper Parameters:\\n\",model1.best_params_)"
      ],
      "execution_count": null,
      "outputs": [
        {
          "output_type": "stream",
          "text": [
            "Best Hyper Parameters:\n",
            " {'algorithm': 'auto', 'leaf_size': 5, 'n_jobs': -1, 'n_neighbors': 9, 'weights': 'distance'}\n"
          ],
          "name": "stdout"
        }
      ]
    },
    {
      "cell_type": "code",
      "metadata": {
        "id": "_YhHRy_Xg-K-"
      },
      "source": [
        "# Predicting the Test set results\n",
        "y_pred = model1.predict(x_Test)"
      ],
      "execution_count": null,
      "outputs": []
    },
    {
      "cell_type": "code",
      "metadata": {
        "colab": {
          "base_uri": "https://localhost:8080/"
        },
        "id": "vbOTwOKchMLG",
        "outputId": "a22ac0da-feca-4a23-cd7e-9b4685025e4a"
      },
      "source": [
        "# Making the Confusion Matrix\n",
        "from sklearn.metrics import confusion_matrix\n",
        "cm = confusion_matrix(y_Test, y_pred)\n",
        "cm"
      ],
      "execution_count": null,
      "outputs": [
        {
          "output_type": "execute_result",
          "data": {
            "text/plain": [
              "array([[80,  0],\n",
              "       [19,  1]])"
            ]
          },
          "metadata": {
            "tags": []
          },
          "execution_count": 78
        }
      ]
    },
    {
      "cell_type": "code",
      "metadata": {
        "colab": {
          "base_uri": "https://localhost:8080/"
        },
        "id": "VeXJaWX4hORn",
        "outputId": "1bd9bf18-1327-4760-ad27-9180cc9e0be6"
      },
      "source": [
        "from sklearn.metrics import accuracy_score\n",
        "print(accuracy_score(y_Test, y_pred))"
      ],
      "execution_count": null,
      "outputs": [
        {
          "output_type": "stream",
          "text": [
            "0.81\n"
          ],
          "name": "stdout"
        }
      ]
    },
    {
      "cell_type": "code",
      "metadata": {
        "colab": {
          "base_uri": "https://localhost:8080/"
        },
        "id": "1UJ4UtwWhQ3Z",
        "outputId": "d2cd1c0d-60d1-43f7-d0d3-03fa11492e2a"
      },
      "source": [
        "knn_acc = accuracy_score(y_Test, y_pred)\n",
        "print(knn_acc)"
      ],
      "execution_count": null,
      "outputs": [
        {
          "output_type": "stream",
          "text": [
            "0.81\n"
          ],
          "name": "stdout"
        }
      ]
    },
    {
      "cell_type": "code",
      "metadata": {
        "colab": {
          "base_uri": "https://localhost:8080/",
          "height": 167
        },
        "id": "2vKXjUsUhSf_",
        "outputId": "de2af700-4d4f-4d2b-fe60-306e5a2c5368"
      },
      "source": [
        "tempResults = pd.DataFrame({'Algorithm':['KNN Classifier Method'], 'Accuracy':[knn_acc]})\n",
        "results = pd.concat( [results, tempResults] )\n",
        "results = results[['Algorithm','Accuracy']]\n",
        "results"
      ],
      "execution_count": null,
      "outputs": [
        {
          "output_type": "execute_result",
          "data": {
            "text/html": [
              "<div>\n",
              "<style scoped>\n",
              "    .dataframe tbody tr th:only-of-type {\n",
              "        vertical-align: middle;\n",
              "    }\n",
              "\n",
              "    .dataframe tbody tr th {\n",
              "        vertical-align: top;\n",
              "    }\n",
              "\n",
              "    .dataframe thead th {\n",
              "        text-align: right;\n",
              "    }\n",
              "</style>\n",
              "<table border=\"1\" class=\"dataframe\">\n",
              "  <thead>\n",
              "    <tr style=\"text-align: right;\">\n",
              "      <th></th>\n",
              "      <th>Algorithm</th>\n",
              "      <th>Accuracy</th>\n",
              "    </tr>\n",
              "  </thead>\n",
              "  <tbody>\n",
              "    <tr>\n",
              "      <th>0</th>\n",
              "      <td>Decision tree Classifier Method</td>\n",
              "      <td>0.89</td>\n",
              "    </tr>\n",
              "    <tr>\n",
              "      <th>0</th>\n",
              "      <td>Logistic Regression Method</td>\n",
              "      <td>0.87</td>\n",
              "    </tr>\n",
              "    <tr>\n",
              "      <th>0</th>\n",
              "      <td>SVM-Linear Karnel Classifier Method</td>\n",
              "      <td>0.89</td>\n",
              "    </tr>\n",
              "    <tr>\n",
              "      <th>0</th>\n",
              "      <td>KNN Classifier Method</td>\n",
              "      <td>0.81</td>\n",
              "    </tr>\n",
              "  </tbody>\n",
              "</table>\n",
              "</div>"
            ],
            "text/plain": [
              "                             Algorithm  Accuracy\n",
              "0      Decision tree Classifier Method      0.89\n",
              "0           Logistic Regression Method      0.87\n",
              "0  SVM-Linear Karnel Classifier Method      0.89\n",
              "0                KNN Classifier Method      0.81"
            ]
          },
          "metadata": {
            "tags": []
          },
          "execution_count": 81
        }
      ]
    },
    {
      "cell_type": "markdown",
      "metadata": {
        "id": "77M0remPOQ61"
      },
      "source": [
        "##RandomForest"
      ]
    },
    {
      "cell_type": "code",
      "metadata": {
        "colab": {
          "base_uri": "https://localhost:8080/"
        },
        "id": "ZtHtFWkPhUaR",
        "outputId": "5a109f17-b605-45c9-e35f-dec2b963d6ee"
      },
      "source": [
        " from sklearn.ensemble import RandomForestClassifier\n",
        " from sklearn.datasets import make_classification\n",
        "xTrain, yTrain = make_classification(n_samples=1000, n_features=4097,\n",
        "                            n_informative=2, n_redundant=0,\n",
        "                            random_state=0, shuffle=False)\n",
        "clf = RandomForestClassifier(max_depth=2, random_state=0)\n",
        "clf.fit(xTrain, yTrain)\n",
        "RandomForestClassifier(...)\n"
      ],
      "execution_count": null,
      "outputs": [
        {
          "output_type": "execute_result",
          "data": {
            "text/plain": [
              "RandomForestClassifier(bootstrap=True, ccp_alpha=0.0, class_weight=None,\n",
              "                       criterion='gini', max_depth=None, max_features='auto',\n",
              "                       max_leaf_nodes=None, max_samples=None,\n",
              "                       min_impurity_decrease=0.0, min_impurity_split=None,\n",
              "                       min_samples_leaf=1, min_samples_split=2,\n",
              "                       min_weight_fraction_leaf=0.0, n_estimators=Ellipsis,\n",
              "                       n_jobs=None, oob_score=False, random_state=None,\n",
              "                       verbose=0, warm_start=False)"
            ]
          },
          "metadata": {
            "tags": []
          },
          "execution_count": 82
        }
      ]
    },
    {
      "cell_type": "code",
      "metadata": {
        "colab": {
          "base_uri": "https://localhost:8080/"
        },
        "id": "ETIHizO-habf",
        "outputId": "26bd38cd-3b88-4aaf-f4c4-981b1ea90b2c"
      },
      "source": [
        "RandomForestClassifier(max_depth=2, random_state=0)\n",
        "print(clf.feature_importances_)"
      ],
      "execution_count": null,
      "outputs": [
        {
          "output_type": "stream",
          "text": [
            "[0.00878617 0.01414803 0.         ... 0.         0.         0.        ]\n"
          ],
          "name": "stdout"
        }
      ]
    },
    {
      "cell_type": "code",
      "metadata": {
        "colab": {
          "base_uri": "https://localhost:8080/"
        },
        "id": "ldf9zuCwhcd0",
        "outputId": "0c6c6f04-8718-411a-aa10-ea305d62e237"
      },
      "source": [
        "y_pred = clf.predict(x_Test)\n",
        "y_pred"
      ],
      "execution_count": null,
      "outputs": [
        {
          "output_type": "execute_result",
          "data": {
            "text/plain": [
              "array([0, 1, 0, 0, 1, 0, 1, 0, 0, 0, 0, 0, 1, 0, 0, 0, 1, 1, 0, 1, 0, 0,\n",
              "       1, 1, 0, 0, 0, 1, 1, 0, 1, 1, 0, 0, 1, 1, 0, 0, 1, 1, 1, 0, 0, 1,\n",
              "       0, 0, 1, 0, 1, 1, 0, 0, 1, 0, 0, 0, 1, 0, 0, 0, 1, 0, 0, 1, 0, 0,\n",
              "       0, 1, 0, 0, 1, 0, 0, 1, 1, 0, 0, 0, 1, 0, 0, 0, 0, 1, 1, 1, 1, 0,\n",
              "       1, 0, 1, 1, 1, 0, 1, 0, 0, 0, 1, 0])"
            ]
          },
          "metadata": {
            "tags": []
          },
          "execution_count": 84
        }
      ]
    },
    {
      "cell_type": "code",
      "metadata": {
        "colab": {
          "base_uri": "https://localhost:8080/"
        },
        "id": "xSn3sSL8heEh",
        "outputId": "f404bc2e-d5fc-4647-8c1b-22c7b038a00b"
      },
      "source": [
        "accuracy_score(y_Test, y_pred)"
      ],
      "execution_count": null,
      "outputs": [
        {
          "output_type": "execute_result",
          "data": {
            "text/plain": [
              "0.61"
            ]
          },
          "metadata": {
            "tags": []
          },
          "execution_count": 85
        }
      ]
    },
    {
      "cell_type": "code",
      "metadata": {
        "colab": {
          "base_uri": "https://localhost:8080/"
        },
        "id": "F1_n55phhgQY",
        "outputId": "230b7cef-fbc5-4ccb-dcbc-967e329c42d9"
      },
      "source": [
        "rfc_acc = accuracy_score(y_Test,y_pred)\n",
        "print(rfc_acc)"
      ],
      "execution_count": null,
      "outputs": [
        {
          "output_type": "stream",
          "text": [
            "0.61\n"
          ],
          "name": "stdout"
        }
      ]
    },
    {
      "cell_type": "code",
      "metadata": {
        "colab": {
          "base_uri": "https://localhost:8080/",
          "height": 197
        },
        "id": "n8MZ01QGhiSF",
        "outputId": "fd3fa57c-2356-449b-c935-2e37e030ff56"
      },
      "source": [
        "tempResults = pd.DataFrame({'Algorithm':['Random Forest Classifier Method'], 'Accuracy':[rfc_acc]})\n",
        "results = pd.concat( [results, tempResults] )\n",
        "results = results[['Algorithm','Accuracy']]\n",
        "results"
      ],
      "execution_count": null,
      "outputs": [
        {
          "output_type": "execute_result",
          "data": {
            "text/html": [
              "<div>\n",
              "<style scoped>\n",
              "    .dataframe tbody tr th:only-of-type {\n",
              "        vertical-align: middle;\n",
              "    }\n",
              "\n",
              "    .dataframe tbody tr th {\n",
              "        vertical-align: top;\n",
              "    }\n",
              "\n",
              "    .dataframe thead th {\n",
              "        text-align: right;\n",
              "    }\n",
              "</style>\n",
              "<table border=\"1\" class=\"dataframe\">\n",
              "  <thead>\n",
              "    <tr style=\"text-align: right;\">\n",
              "      <th></th>\n",
              "      <th>Algorithm</th>\n",
              "      <th>Accuracy</th>\n",
              "    </tr>\n",
              "  </thead>\n",
              "  <tbody>\n",
              "    <tr>\n",
              "      <th>0</th>\n",
              "      <td>Decision tree Classifier Method</td>\n",
              "      <td>0.89</td>\n",
              "    </tr>\n",
              "    <tr>\n",
              "      <th>0</th>\n",
              "      <td>Logistic Regression Method</td>\n",
              "      <td>0.87</td>\n",
              "    </tr>\n",
              "    <tr>\n",
              "      <th>0</th>\n",
              "      <td>SVM-Linear Karnel Classifier Method</td>\n",
              "      <td>0.89</td>\n",
              "    </tr>\n",
              "    <tr>\n",
              "      <th>0</th>\n",
              "      <td>KNN Classifier Method</td>\n",
              "      <td>0.81</td>\n",
              "    </tr>\n",
              "    <tr>\n",
              "      <th>0</th>\n",
              "      <td>Random Forest Classifier Method</td>\n",
              "      <td>0.61</td>\n",
              "    </tr>\n",
              "  </tbody>\n",
              "</table>\n",
              "</div>"
            ],
            "text/plain": [
              "                             Algorithm  Accuracy\n",
              "0      Decision tree Classifier Method      0.89\n",
              "0           Logistic Regression Method      0.87\n",
              "0  SVM-Linear Karnel Classifier Method      0.89\n",
              "0                KNN Classifier Method      0.81\n",
              "0      Random Forest Classifier Method      0.61"
            ]
          },
          "metadata": {
            "tags": []
          },
          "execution_count": 87
        }
      ]
    },
    {
      "cell_type": "code",
      "metadata": {
        "id": "1FaV9VlygSTz"
      },
      "source": [
        ""
      ],
      "execution_count": null,
      "outputs": []
    },
    {
      "cell_type": "markdown",
      "metadata": {
        "id": "y62k3_7uz_f0"
      },
      "source": [
        "#XGBoost"
      ]
    },
    {
      "cell_type": "code",
      "metadata": {
        "id": "yV9dtMUN82T8"
      },
      "source": [
        "import numpy as np\n",
        "from sklearn.datasets import load_svmlight_files\n",
        "from sklearn.metrics import accuracy_score\n",
        "\n",
        "from xgboost.sklearn import XGBClassifier"
      ],
      "execution_count": null,
      "outputs": []
    },
    {
      "cell_type": "code",
      "metadata": {
        "colab": {
          "base_uri": "https://localhost:8080/"
        },
        "id": "bLVlUanp86U_",
        "outputId": "c3ea3e2a-3cae-4505-ac67-e376b1c0f2b8"
      },
      "source": [
        "model =XGBClassifier()\n",
        "eval_set =[(x_Train,y_Train)]\n",
        "model.fit(x_Train,y_Train,early_stopping_rounds= 10, eval_metric ='logloss',eval_set=eval_set,verbose=True)"
      ],
      "execution_count": null,
      "outputs": [
        {
          "output_type": "stream",
          "text": [
            "[0]\tvalidation_0-logloss:0.609317\n",
            "Will train until validation_0-logloss hasn't improved in 10 rounds.\n",
            "[1]\tvalidation_0-logloss:0.540785\n",
            "[2]\tvalidation_0-logloss:0.478596\n",
            "[3]\tvalidation_0-logloss:0.429081\n",
            "[4]\tvalidation_0-logloss:0.383199\n",
            "[5]\tvalidation_0-logloss:0.343665\n",
            "[6]\tvalidation_0-logloss:0.310059\n",
            "[7]\tvalidation_0-logloss:0.27982\n",
            "[8]\tvalidation_0-logloss:0.254612\n",
            "[9]\tvalidation_0-logloss:0.231151\n",
            "[10]\tvalidation_0-logloss:0.21117\n",
            "[11]\tvalidation_0-logloss:0.192784\n",
            "[12]\tvalidation_0-logloss:0.17562\n",
            "[13]\tvalidation_0-logloss:0.16098\n",
            "[14]\tvalidation_0-logloss:0.147447\n",
            "[15]\tvalidation_0-logloss:0.135713\n",
            "[16]\tvalidation_0-logloss:0.124836\n",
            "[17]\tvalidation_0-logloss:0.114829\n",
            "[18]\tvalidation_0-logloss:0.10562\n",
            "[19]\tvalidation_0-logloss:0.097501\n",
            "[20]\tvalidation_0-logloss:0.090105\n",
            "[21]\tvalidation_0-logloss:0.08336\n",
            "[22]\tvalidation_0-logloss:0.077127\n",
            "[23]\tvalidation_0-logloss:0.071581\n",
            "[24]\tvalidation_0-logloss:0.066565\n",
            "[25]\tvalidation_0-logloss:0.061945\n",
            "[26]\tvalidation_0-logloss:0.057768\n",
            "[27]\tvalidation_0-logloss:0.053819\n",
            "[28]\tvalidation_0-logloss:0.050143\n",
            "[29]\tvalidation_0-logloss:0.046805\n",
            "[30]\tvalidation_0-logloss:0.043875\n",
            "[31]\tvalidation_0-logloss:0.041064\n",
            "[32]\tvalidation_0-logloss:0.038606\n",
            "[33]\tvalidation_0-logloss:0.036326\n",
            "[34]\tvalidation_0-logloss:0.034091\n",
            "[35]\tvalidation_0-logloss:0.03211\n",
            "[36]\tvalidation_0-logloss:0.030229\n",
            "[37]\tvalidation_0-logloss:0.028526\n",
            "[38]\tvalidation_0-logloss:0.027007\n",
            "[39]\tvalidation_0-logloss:0.0257\n",
            "[40]\tvalidation_0-logloss:0.024409\n",
            "[41]\tvalidation_0-logloss:0.023098\n",
            "[42]\tvalidation_0-logloss:0.021897\n",
            "[43]\tvalidation_0-logloss:0.020867\n",
            "[44]\tvalidation_0-logloss:0.019914\n",
            "[45]\tvalidation_0-logloss:0.018963\n",
            "[46]\tvalidation_0-logloss:0.01821\n",
            "[47]\tvalidation_0-logloss:0.017348\n",
            "[48]\tvalidation_0-logloss:0.016697\n",
            "[49]\tvalidation_0-logloss:0.016001\n",
            "[50]\tvalidation_0-logloss:0.015367\n",
            "[51]\tvalidation_0-logloss:0.014748\n",
            "[52]\tvalidation_0-logloss:0.014195\n",
            "[53]\tvalidation_0-logloss:0.013689\n",
            "[54]\tvalidation_0-logloss:0.013319\n",
            "[55]\tvalidation_0-logloss:0.01283\n",
            "[56]\tvalidation_0-logloss:0.012426\n",
            "[57]\tvalidation_0-logloss:0.012107\n",
            "[58]\tvalidation_0-logloss:0.011792\n",
            "[59]\tvalidation_0-logloss:0.011442\n",
            "[60]\tvalidation_0-logloss:0.011147\n",
            "[61]\tvalidation_0-logloss:0.010846\n",
            "[62]\tvalidation_0-logloss:0.010559\n",
            "[63]\tvalidation_0-logloss:0.010283\n",
            "[64]\tvalidation_0-logloss:0.010067\n",
            "[65]\tvalidation_0-logloss:0.00987\n",
            "[66]\tvalidation_0-logloss:0.009613\n",
            "[67]\tvalidation_0-logloss:0.009426\n",
            "[68]\tvalidation_0-logloss:0.009198\n",
            "[69]\tvalidation_0-logloss:0.008998\n",
            "[70]\tvalidation_0-logloss:0.008827\n",
            "[71]\tvalidation_0-logloss:0.008686\n",
            "[72]\tvalidation_0-logloss:0.008529\n",
            "[73]\tvalidation_0-logloss:0.008365\n",
            "[74]\tvalidation_0-logloss:0.008213\n",
            "[75]\tvalidation_0-logloss:0.008075\n",
            "[76]\tvalidation_0-logloss:0.007962\n",
            "[77]\tvalidation_0-logloss:0.007851\n",
            "[78]\tvalidation_0-logloss:0.007739\n",
            "[79]\tvalidation_0-logloss:0.007664\n",
            "[80]\tvalidation_0-logloss:0.007593\n",
            "[81]\tvalidation_0-logloss:0.007524\n",
            "[82]\tvalidation_0-logloss:0.007455\n",
            "[83]\tvalidation_0-logloss:0.007387\n",
            "[84]\tvalidation_0-logloss:0.007322\n",
            "[85]\tvalidation_0-logloss:0.007258\n",
            "[86]\tvalidation_0-logloss:0.007195\n",
            "[87]\tvalidation_0-logloss:0.007133\n",
            "[88]\tvalidation_0-logloss:0.007071\n",
            "[89]\tvalidation_0-logloss:0.007014\n",
            "[90]\tvalidation_0-logloss:0.006957\n",
            "[91]\tvalidation_0-logloss:0.006901\n",
            "[92]\tvalidation_0-logloss:0.006846\n",
            "[93]\tvalidation_0-logloss:0.006792\n",
            "[94]\tvalidation_0-logloss:0.006739\n",
            "[95]\tvalidation_0-logloss:0.006688\n",
            "[96]\tvalidation_0-logloss:0.006638\n",
            "[97]\tvalidation_0-logloss:0.00659\n",
            "[98]\tvalidation_0-logloss:0.006542\n",
            "[99]\tvalidation_0-logloss:0.006495\n"
          ],
          "name": "stdout"
        },
        {
          "output_type": "execute_result",
          "data": {
            "text/plain": [
              "XGBClassifier(base_score=0.5, booster='gbtree', colsample_bylevel=1,\n",
              "              colsample_bynode=1, colsample_bytree=1, gamma=0,\n",
              "              learning_rate=0.1, max_delta_step=0, max_depth=3,\n",
              "              min_child_weight=1, missing=None, n_estimators=100, n_jobs=1,\n",
              "              nthread=None, objective='binary:logistic', random_state=0,\n",
              "              reg_alpha=0, reg_lambda=1, scale_pos_weight=1, seed=None,\n",
              "              silent=None, subsample=1, verbosity=1)"
            ]
          },
          "metadata": {
            "tags": []
          },
          "execution_count": 31
        }
      ]
    },
    {
      "cell_type": "code",
      "metadata": {
        "id": "m9_WdfeY86Ss"
      },
      "source": [
        "#make predictions for test data\n",
        "predictions = model.predict(x_Test)\n"
      ],
      "execution_count": null,
      "outputs": []
    },
    {
      "cell_type": "code",
      "metadata": {
        "colab": {
          "base_uri": "https://localhost:8080/"
        },
        "id": "Lzyib1z886NE",
        "outputId": "ec44be3e-caa8-4d80-c223-73d5b21b28ae"
      },
      "source": [
        "y_xgb_pred =model.predict(x_Test)\n",
        "print(y_Test)\n",
        "print(y_xgb_pred)\n",
        "\n",
        "cm = confusion_matrix(y_xgb_pred,y_Test)\n",
        "print(cm)"
      ],
      "execution_count": null,
      "outputs": [
        {
          "output_type": "stream",
          "text": [
            "     target\n",
            "452       0\n",
            "60        1\n",
            "73        1\n",
            "267       0\n",
            "51        1\n",
            "..      ...\n",
            "463       0\n",
            "237       0\n",
            "366       0\n",
            "216       0\n",
            "141       0\n",
            "\n",
            "[100 rows x 1 columns]\n",
            "[0 0 1 0 1 0 0 0 0 0 0 0 0 0 0 1 1 1 0 0 0 0 0 0 0 0 0 0 0 0 0 0 0 0 0 0 0\n",
            " 0 0 0 1 0 0 0 0 0 0 0 0 0 0 0 1 0 0 0 0 0 0 1 0 0 0 0 0 0 0 0 0 1 0 1 0 0\n",
            " 0 0 0 1 1 1 0 1 0 0 0 0 0 0 0 0 0 0 0 0 0 0 0 0 0 0]\n",
            "[[80  6]\n",
            " [ 0 14]]\n"
          ],
          "name": "stdout"
        }
      ]
    },
    {
      "cell_type": "code",
      "metadata": {
        "colab": {
          "base_uri": "https://localhost:8080/"
        },
        "id": "PN34t01g86KD",
        "outputId": "f29d3e22-f08a-408a-d3ab-b19399332142"
      },
      "source": [
        "# evoluate predictions\n",
        "accuracy = accuracy_score(y_Test, predictions)\n",
        "print(\"Accuracy: %.2f%%\" %(accuracy * 100.0))"
      ],
      "execution_count": null,
      "outputs": [
        {
          "output_type": "stream",
          "text": [
            "Accuracy: 94.00%\n"
          ],
          "name": "stdout"
        }
      ]
    },
    {
      "cell_type": "code",
      "metadata": {
        "colab": {
          "base_uri": "https://localhost:8080/"
        },
        "id": "iq2ky_Tm85z8",
        "outputId": "4d7028e4-9af6-4432-c4bb-c48476747ac2"
      },
      "source": [
        "from sklearn.metrics import accuracy_score\n",
        "print(accuracy_score(y_Test,y_pred))"
      ],
      "execution_count": null,
      "outputs": [
        {
          "output_type": "stream",
          "text": [
            "0.89\n"
          ],
          "name": "stdout"
        }
      ]
    },
    {
      "cell_type": "code",
      "metadata": {
        "colab": {
          "base_uri": "https://localhost:8080/"
        },
        "id": "SKWM4hjp85wy",
        "outputId": "103cd37f-a299-4ca2-cde4-5c713668b5c7"
      },
      "source": [
        "xgb_acc = accuracy_score(y_Test, y_pred)\n",
        "print(xgb_acc)"
      ],
      "execution_count": null,
      "outputs": [
        {
          "output_type": "stream",
          "text": [
            "0.89\n"
          ],
          "name": "stdout"
        }
      ]
    },
    {
      "cell_type": "code",
      "metadata": {
        "colab": {
          "base_uri": "https://localhost:8080/",
          "height": 31
        },
        "id": "CJ6_km4rKyfF",
        "outputId": "6b5cd3d5-6226-43c0-ed6c-c724ed372bd3"
      },
      "source": [
        "results = pd.DataFrame()\n",
        "results"
      ],
      "execution_count": null,
      "outputs": [
        {
          "output_type": "execute_result",
          "data": {
            "text/html": [
              "<div>\n",
              "<style scoped>\n",
              "    .dataframe tbody tr th:only-of-type {\n",
              "        vertical-align: middle;\n",
              "    }\n",
              "\n",
              "    .dataframe tbody tr th {\n",
              "        vertical-align: top;\n",
              "    }\n",
              "\n",
              "    .dataframe thead th {\n",
              "        text-align: right;\n",
              "    }\n",
              "</style>\n",
              "<table border=\"1\" class=\"dataframe\">\n",
              "  <thead>\n",
              "    <tr style=\"text-align: right;\">\n",
              "      <th></th>\n",
              "    </tr>\n",
              "  </thead>\n",
              "  <tbody>\n",
              "  </tbody>\n",
              "</table>\n",
              "</div>"
            ],
            "text/plain": [
              "Empty DataFrame\n",
              "Columns: []\n",
              "Index: []"
            ]
          },
          "metadata": {
            "tags": []
          },
          "execution_count": 38
        }
      ]
    },
    {
      "cell_type": "code",
      "metadata": {
        "colab": {
          "base_uri": "https://localhost:8080/",
          "height": 77
        },
        "id": "tFGZHspi9MGt",
        "outputId": "1d66bec0-0555-48d8-cd23-4a7ebc281d17"
      },
      "source": [
        "tempResults = pd.DataFrame({'Algorithm':['XGBoost Classifier Method'], 'Accuracy':[xgb_acc]})\n",
        "results = pd.concat( [results, tempResults] )\n",
        "results = results[['Algorithm','Accuracy']]\n",
        "results"
      ],
      "execution_count": null,
      "outputs": [
        {
          "output_type": "execute_result",
          "data": {
            "text/html": [
              "<div>\n",
              "<style scoped>\n",
              "    .dataframe tbody tr th:only-of-type {\n",
              "        vertical-align: middle;\n",
              "    }\n",
              "\n",
              "    .dataframe tbody tr th {\n",
              "        vertical-align: top;\n",
              "    }\n",
              "\n",
              "    .dataframe thead th {\n",
              "        text-align: right;\n",
              "    }\n",
              "</style>\n",
              "<table border=\"1\" class=\"dataframe\">\n",
              "  <thead>\n",
              "    <tr style=\"text-align: right;\">\n",
              "      <th></th>\n",
              "      <th>Algorithm</th>\n",
              "      <th>Accuracy</th>\n",
              "    </tr>\n",
              "  </thead>\n",
              "  <tbody>\n",
              "    <tr>\n",
              "      <th>0</th>\n",
              "      <td>XGBoost Classifier Method</td>\n",
              "      <td>0.89</td>\n",
              "    </tr>\n",
              "  </tbody>\n",
              "</table>\n",
              "</div>"
            ],
            "text/plain": [
              "                   Algorithm  Accuracy\n",
              "0  XGBoost Classifier Method      0.89"
            ]
          },
          "metadata": {
            "tags": []
          },
          "execution_count": 39
        }
      ]
    },
    {
      "cell_type": "markdown",
      "metadata": {
        "id": "GVMSsDOvN_rj"
      },
      "source": [
        "##Perform Kmean Clustering"
      ]
    },
    {
      "cell_type": "code",
      "metadata": {
        "id": "S2m7FF3fiOhV"
      },
      "source": [
        "from sklearn.cluster import KMeans\n",
        "from scipy.stats import zscore"
      ],
      "execution_count": null,
      "outputs": []
    },
    {
      "cell_type": "code",
      "metadata": {
        "id": "EgS6hgVjiHXp"
      },
      "source": [
        "# Scale the Dataset\n",
        "df_scaled = df.apply(zscore)"
      ],
      "execution_count": null,
      "outputs": []
    },
    {
      "cell_type": "code",
      "metadata": {
        "colab": {
          "base_uri": "https://localhost:8080/",
          "height": 317
        },
        "id": "5NMoSc-hiRiy",
        "outputId": "23583829-0f52-447c-c8f1-bb1cef4b3ae9"
      },
      "source": [
        "# Let us check optimal number of clusters-\n",
        "\n",
        "# expect 3 to four clusters from the pair panel visual inspection hence restricting from 2 to 6\n",
        "cluster_range = range( 1, 10 )\n",
        "cluster_errors = []\n",
        "for num_clusters in cluster_range:\n",
        "  clusters = KMeans( num_clusters,n_init = 15, random_state=2)\n",
        "  clusters.fit(df_scaled)\n",
        " \n",
        "    # capture the cluster lables\n",
        "  labels = clusters.labels_\n",
        "\n",
        "# capture the centroids\n",
        "  centroids = clusters.cluster_centers_\n",
        "\n",
        "    # capture the intertia\n",
        "  cluster_errors.append( clusters.inertia_ )\n",
        "\n",
        "# combine the cluster_range and cluster_errors into a dataframe by combining them\n",
        "clusters_df = pd.DataFrame( { \"num_clusters\":cluster_range, \"cluster_errors\": cluster_errors } )\n",
        "clusters_df[0:10]"
      ],
      "execution_count": null,
      "outputs": [
        {
          "output_type": "execute_result",
          "data": {
            "text/html": [
              "<div>\n",
              "<style scoped>\n",
              "    .dataframe tbody tr th:only-of-type {\n",
              "        vertical-align: middle;\n",
              "    }\n",
              "\n",
              "    .dataframe tbody tr th {\n",
              "        vertical-align: top;\n",
              "    }\n",
              "\n",
              "    .dataframe thead th {\n",
              "        text-align: right;\n",
              "    }\n",
              "</style>\n",
              "<table border=\"1\" class=\"dataframe\">\n",
              "  <thead>\n",
              "    <tr style=\"text-align: right;\">\n",
              "      <th></th>\n",
              "      <th>num_clusters</th>\n",
              "      <th>cluster_errors</th>\n",
              "    </tr>\n",
              "  </thead>\n",
              "  <tbody>\n",
              "    <tr>\n",
              "      <th>0</th>\n",
              "      <td>1</td>\n",
              "      <td>2.048500e+06</td>\n",
              "    </tr>\n",
              "    <tr>\n",
              "      <th>1</th>\n",
              "      <td>2</td>\n",
              "      <td>1.945737e+06</td>\n",
              "    </tr>\n",
              "    <tr>\n",
              "      <th>2</th>\n",
              "      <td>3</td>\n",
              "      <td>1.893501e+06</td>\n",
              "    </tr>\n",
              "    <tr>\n",
              "      <th>3</th>\n",
              "      <td>4</td>\n",
              "      <td>1.829996e+06</td>\n",
              "    </tr>\n",
              "    <tr>\n",
              "      <th>4</th>\n",
              "      <td>5</td>\n",
              "      <td>1.776881e+06</td>\n",
              "    </tr>\n",
              "    <tr>\n",
              "      <th>5</th>\n",
              "      <td>6</td>\n",
              "      <td>1.709997e+06</td>\n",
              "    </tr>\n",
              "    <tr>\n",
              "      <th>6</th>\n",
              "      <td>7</td>\n",
              "      <td>1.672833e+06</td>\n",
              "    </tr>\n",
              "    <tr>\n",
              "      <th>7</th>\n",
              "      <td>8</td>\n",
              "      <td>1.602678e+06</td>\n",
              "    </tr>\n",
              "    <tr>\n",
              "      <th>8</th>\n",
              "      <td>9</td>\n",
              "      <td>1.567250e+06</td>\n",
              "    </tr>\n",
              "  </tbody>\n",
              "</table>\n",
              "</div>"
            ],
            "text/plain": [
              "   num_clusters  cluster_errors\n",
              "0             1    2.048500e+06\n",
              "1             2    1.945737e+06\n",
              "2             3    1.893501e+06\n",
              "3             4    1.829996e+06\n",
              "4             5    1.776881e+06\n",
              "5             6    1.709997e+06\n",
              "6             7    1.672833e+06\n",
              "7             8    1.602678e+06\n",
              "8             9    1.567250e+06"
            ]
          },
          "metadata": {
            "tags": []
          },
          "execution_count": 23
        }
      ]
    },
    {
      "cell_type": "code",
      "metadata": {
        "id": "tZjJrOpziYFG"
      },
      "source": [
        "# Number of clusters\n",
        "kmeans = KMeans(n_clusters=3, n_init = 15, random_state=2)"
      ],
      "execution_count": null,
      "outputs": []
    },
    {
      "cell_type": "code",
      "metadata": {
        "colab": {
          "base_uri": "https://localhost:8080/"
        },
        "id": "mwiVi7OFihmM",
        "outputId": "75d48dd9-6671-4d33-bf02-2d1995a40fdc"
      },
      "source": [
        "# Fitting the input data\n",
        "kmeans.fit(df_scaled)"
      ],
      "execution_count": null,
      "outputs": [
        {
          "output_type": "execute_result",
          "data": {
            "text/plain": [
              "KMeans(algorithm='auto', copy_x=True, init='k-means++', max_iter=300,\n",
              "       n_clusters=3, n_init=15, n_jobs=None, precompute_distances='auto',\n",
              "       random_state=2, tol=0.0001, verbose=0)"
            ]
          },
          "metadata": {
            "tags": []
          },
          "execution_count": 25
        }
      ]
    },
    {
      "cell_type": "code",
      "metadata": {
        "id": "zSqxagQ_ii_9"
      },
      "source": [
        "#Centroids\n",
        "centroids=kmeans.cluster_centers_"
      ],
      "execution_count": null,
      "outputs": []
    },
    {
      "cell_type": "code",
      "metadata": {
        "id": "6YZxFWB1ilh2"
      },
      "source": [
        "centroid_df = pd.DataFrame(centroids, columns = list(df_scaled) )"
      ],
      "execution_count": null,
      "outputs": []
    },
    {
      "cell_type": "code",
      "metadata": {
        "colab": {
          "base_uri": "https://localhost:8080/",
          "height": 203
        },
        "id": "NrzA6PjvinHJ",
        "outputId": "f54c59ca-b600-4bd2-e51c-a2db8ef06737"
      },
      "source": [
        "centroid_df"
      ],
      "execution_count": null,
      "outputs": [
        {
          "output_type": "execute_result",
          "data": {
            "text/html": [
              "<div>\n",
              "<style scoped>\n",
              "    .dataframe tbody tr th:only-of-type {\n",
              "        vertical-align: middle;\n",
              "    }\n",
              "\n",
              "    .dataframe tbody tr th {\n",
              "        vertical-align: top;\n",
              "    }\n",
              "\n",
              "    .dataframe thead th {\n",
              "        text-align: right;\n",
              "    }\n",
              "</style>\n",
              "<table border=\"1\" class=\"dataframe\">\n",
              "  <thead>\n",
              "    <tr style=\"text-align: right;\">\n",
              "      <th></th>\n",
              "      <th>Unnamed: 0</th>\n",
              "      <th>Unnamed: 1</th>\n",
              "      <th>Unnamed: 2</th>\n",
              "      <th>Unnamed: 3</th>\n",
              "      <th>Unnamed: 4</th>\n",
              "      <th>Unnamed: 5</th>\n",
              "      <th>Unnamed: 6</th>\n",
              "      <th>Unnamed: 7</th>\n",
              "      <th>Unnamed: 8</th>\n",
              "      <th>Unnamed: 9</th>\n",
              "      <th>Unnamed: 10</th>\n",
              "      <th>Unnamed: 11</th>\n",
              "      <th>Unnamed: 12</th>\n",
              "      <th>Unnamed: 13</th>\n",
              "      <th>Unnamed: 14</th>\n",
              "      <th>Unnamed: 15</th>\n",
              "      <th>Unnamed: 16</th>\n",
              "      <th>Unnamed: 17</th>\n",
              "      <th>Unnamed: 18</th>\n",
              "      <th>Unnamed: 19</th>\n",
              "      <th>Unnamed: 20</th>\n",
              "      <th>Unnamed: 21</th>\n",
              "      <th>Unnamed: 22</th>\n",
              "      <th>Unnamed: 23</th>\n",
              "      <th>Unnamed: 24</th>\n",
              "      <th>Unnamed: 25</th>\n",
              "      <th>Unnamed: 26</th>\n",
              "      <th>Unnamed: 27</th>\n",
              "      <th>Unnamed: 28</th>\n",
              "      <th>Unnamed: 29</th>\n",
              "      <th>Unnamed: 30</th>\n",
              "      <th>Unnamed: 31</th>\n",
              "      <th>Unnamed: 32</th>\n",
              "      <th>Unnamed: 33</th>\n",
              "      <th>Unnamed: 34</th>\n",
              "      <th>Unnamed: 35</th>\n",
              "      <th>Unnamed: 36</th>\n",
              "      <th>Unnamed: 37</th>\n",
              "      <th>Unnamed: 38</th>\n",
              "      <th>Unnamed: 39</th>\n",
              "      <th>...</th>\n",
              "      <th>Unnamed: 4057</th>\n",
              "      <th>Unnamed: 4058</th>\n",
              "      <th>Unnamed: 4059</th>\n",
              "      <th>Unnamed: 4060</th>\n",
              "      <th>Unnamed: 4061</th>\n",
              "      <th>Unnamed: 4062</th>\n",
              "      <th>Unnamed: 4063</th>\n",
              "      <th>Unnamed: 4064</th>\n",
              "      <th>Unnamed: 4065</th>\n",
              "      <th>Unnamed: 4066</th>\n",
              "      <th>Unnamed: 4067</th>\n",
              "      <th>Unnamed: 4068</th>\n",
              "      <th>Unnamed: 4069</th>\n",
              "      <th>Unnamed: 4070</th>\n",
              "      <th>Unnamed: 4071</th>\n",
              "      <th>Unnamed: 4072</th>\n",
              "      <th>Unnamed: 4073</th>\n",
              "      <th>Unnamed: 4074</th>\n",
              "      <th>Unnamed: 4075</th>\n",
              "      <th>Unnamed: 4076</th>\n",
              "      <th>Unnamed: 4077</th>\n",
              "      <th>Unnamed: 4078</th>\n",
              "      <th>Unnamed: 4079</th>\n",
              "      <th>Unnamed: 4080</th>\n",
              "      <th>Unnamed: 4081</th>\n",
              "      <th>Unnamed: 4082</th>\n",
              "      <th>Unnamed: 4083</th>\n",
              "      <th>Unnamed: 4084</th>\n",
              "      <th>Unnamed: 4085</th>\n",
              "      <th>Unnamed: 4086</th>\n",
              "      <th>Unnamed: 4087</th>\n",
              "      <th>Unnamed: 4088</th>\n",
              "      <th>Unnamed: 4089</th>\n",
              "      <th>Unnamed: 4090</th>\n",
              "      <th>Unnamed: 4091</th>\n",
              "      <th>Unnamed: 4092</th>\n",
              "      <th>Unnamed: 4093</th>\n",
              "      <th>Unnamed: 4094</th>\n",
              "      <th>Unnamed: 4095</th>\n",
              "      <th>Unnamed: 4096</th>\n",
              "    </tr>\n",
              "  </thead>\n",
              "  <tbody>\n",
              "    <tr>\n",
              "      <th>0</th>\n",
              "      <td>1.284267</td>\n",
              "      <td>-2.031725</td>\n",
              "      <td>-4.689536</td>\n",
              "      <td>-5.672939</td>\n",
              "      <td>-4.993369</td>\n",
              "      <td>-2.307500</td>\n",
              "      <td>1.330278</td>\n",
              "      <td>3.855793</td>\n",
              "      <td>5.016986</td>\n",
              "      <td>5.108701</td>\n",
              "      <td>4.733688</td>\n",
              "      <td>4.054601</td>\n",
              "      <td>2.463983</td>\n",
              "      <td>0.170125</td>\n",
              "      <td>-2.290724</td>\n",
              "      <td>-3.881493</td>\n",
              "      <td>-3.147774</td>\n",
              "      <td>-0.871480</td>\n",
              "      <td>1.693864</td>\n",
              "      <td>3.207923</td>\n",
              "      <td>3.929427</td>\n",
              "      <td>3.853776</td>\n",
              "      <td>3.179506</td>\n",
              "      <td>2.639978</td>\n",
              "      <td>2.504775</td>\n",
              "      <td>2.685742</td>\n",
              "      <td>2.798995</td>\n",
              "      <td>2.682670</td>\n",
              "      <td>2.344897</td>\n",
              "      <td>1.798668</td>\n",
              "      <td>1.081734</td>\n",
              "      <td>0.420021</td>\n",
              "      <td>-0.018848</td>\n",
              "      <td>-0.126485</td>\n",
              "      <td>0.075816</td>\n",
              "      <td>0.294100</td>\n",
              "      <td>0.300346</td>\n",
              "      <td>0.160173</td>\n",
              "      <td>0.150135</td>\n",
              "      <td>0.344380</td>\n",
              "      <td>...</td>\n",
              "      <td>-0.197932</td>\n",
              "      <td>0.328395</td>\n",
              "      <td>1.199099</td>\n",
              "      <td>2.051018</td>\n",
              "      <td>2.678037</td>\n",
              "      <td>2.919625</td>\n",
              "      <td>2.863076</td>\n",
              "      <td>2.774522</td>\n",
              "      <td>2.395564</td>\n",
              "      <td>2.028045</td>\n",
              "      <td>1.964164</td>\n",
              "      <td>2.104206</td>\n",
              "      <td>2.450722</td>\n",
              "      <td>2.533687</td>\n",
              "      <td>2.186307</td>\n",
              "      <td>1.014988</td>\n",
              "      <td>-1.286645</td>\n",
              "      <td>-4.333097</td>\n",
              "      <td>-6.700524</td>\n",
              "      <td>-7.430926</td>\n",
              "      <td>-7.239560</td>\n",
              "      <td>-5.346491</td>\n",
              "      <td>-1.183531</td>\n",
              "      <td>2.867897</td>\n",
              "      <td>5.046966</td>\n",
              "      <td>5.626138</td>\n",
              "      <td>4.196518</td>\n",
              "      <td>0.070828</td>\n",
              "      <td>-3.825247</td>\n",
              "      <td>-5.006503</td>\n",
              "      <td>-4.236859</td>\n",
              "      <td>-2.055966</td>\n",
              "      <td>0.612207</td>\n",
              "      <td>2.497618</td>\n",
              "      <td>3.514092</td>\n",
              "      <td>4.095029</td>\n",
              "      <td>4.330173</td>\n",
              "      <td>4.426603</td>\n",
              "      <td>4.403947</td>\n",
              "      <td>-1.045617</td>\n",
              "    </tr>\n",
              "    <tr>\n",
              "      <th>1</th>\n",
              "      <td>5.537945</td>\n",
              "      <td>5.206952</td>\n",
              "      <td>4.642678</td>\n",
              "      <td>4.450854</td>\n",
              "      <td>4.818518</td>\n",
              "      <td>5.700639</td>\n",
              "      <td>6.381829</td>\n",
              "      <td>6.746414</td>\n",
              "      <td>6.487813</td>\n",
              "      <td>5.988446</td>\n",
              "      <td>3.657779</td>\n",
              "      <td>-1.249528</td>\n",
              "      <td>-7.052612</td>\n",
              "      <td>-9.218162</td>\n",
              "      <td>-9.435925</td>\n",
              "      <td>-9.593548</td>\n",
              "      <td>-10.105201</td>\n",
              "      <td>-10.137896</td>\n",
              "      <td>-9.346567</td>\n",
              "      <td>-7.507119</td>\n",
              "      <td>-5.780829</td>\n",
              "      <td>-4.126760</td>\n",
              "      <td>-2.688628</td>\n",
              "      <td>-1.320681</td>\n",
              "      <td>0.138893</td>\n",
              "      <td>1.413712</td>\n",
              "      <td>2.524545</td>\n",
              "      <td>3.236441</td>\n",
              "      <td>3.962798</td>\n",
              "      <td>4.337678</td>\n",
              "      <td>4.509552</td>\n",
              "      <td>4.300645</td>\n",
              "      <td>4.258937</td>\n",
              "      <td>4.328252</td>\n",
              "      <td>4.155974</td>\n",
              "      <td>4.069391</td>\n",
              "      <td>3.923728</td>\n",
              "      <td>3.689368</td>\n",
              "      <td>3.509717</td>\n",
              "      <td>3.384611</td>\n",
              "      <td>...</td>\n",
              "      <td>-1.907208</td>\n",
              "      <td>-2.732780</td>\n",
              "      <td>-3.155452</td>\n",
              "      <td>-2.982154</td>\n",
              "      <td>-1.534514</td>\n",
              "      <td>-0.349310</td>\n",
              "      <td>1.630459</td>\n",
              "      <td>2.745251</td>\n",
              "      <td>3.527146</td>\n",
              "      <td>2.558984</td>\n",
              "      <td>1.106084</td>\n",
              "      <td>-1.095486</td>\n",
              "      <td>-2.356490</td>\n",
              "      <td>-1.567008</td>\n",
              "      <td>1.099556</td>\n",
              "      <td>4.352488</td>\n",
              "      <td>6.245712</td>\n",
              "      <td>5.923992</td>\n",
              "      <td>5.292340</td>\n",
              "      <td>4.797334</td>\n",
              "      <td>4.611357</td>\n",
              "      <td>4.400862</td>\n",
              "      <td>2.087819</td>\n",
              "      <td>-0.297872</td>\n",
              "      <td>-1.767015</td>\n",
              "      <td>-1.350061</td>\n",
              "      <td>0.669965</td>\n",
              "      <td>3.698471</td>\n",
              "      <td>5.260168</td>\n",
              "      <td>5.343191</td>\n",
              "      <td>5.047102</td>\n",
              "      <td>4.739822</td>\n",
              "      <td>3.865039</td>\n",
              "      <td>1.688897</td>\n",
              "      <td>-1.347806</td>\n",
              "      <td>-3.569541</td>\n",
              "      <td>-4.599954</td>\n",
              "      <td>-4.511281</td>\n",
              "      <td>-2.476041</td>\n",
              "      <td>-3.040295</td>\n",
              "    </tr>\n",
              "    <tr>\n",
              "      <th>2</th>\n",
              "      <td>-0.018933</td>\n",
              "      <td>0.001791</td>\n",
              "      <td>0.019004</td>\n",
              "      <td>0.025339</td>\n",
              "      <td>0.020487</td>\n",
              "      <td>0.002463</td>\n",
              "      <td>-0.020913</td>\n",
              "      <td>-0.036923</td>\n",
              "      <td>-0.043425</td>\n",
              "      <td>-0.042973</td>\n",
              "      <td>-0.036006</td>\n",
              "      <td>-0.022005</td>\n",
              "      <td>-0.000684</td>\n",
              "      <td>0.017556</td>\n",
              "      <td>0.032879</td>\n",
              "      <td>0.042819</td>\n",
              "      <td>0.039412</td>\n",
              "      <td>0.025710</td>\n",
              "      <td>0.008599</td>\n",
              "      <td>-0.004267</td>\n",
              "      <td>-0.012112</td>\n",
              "      <td>-0.014989</td>\n",
              "      <td>-0.013810</td>\n",
              "      <td>-0.013305</td>\n",
              "      <td>-0.015430</td>\n",
              "      <td>-0.019095</td>\n",
              "      <td>-0.022019</td>\n",
              "      <td>-0.022751</td>\n",
              "      <td>-0.022172</td>\n",
              "      <td>-0.019624</td>\n",
              "      <td>-0.015635</td>\n",
              "      <td>-0.011211</td>\n",
              "      <td>-0.008473</td>\n",
              "      <td>-0.007961</td>\n",
              "      <td>-0.008838</td>\n",
              "      <td>-0.009983</td>\n",
              "      <td>-0.009727</td>\n",
              "      <td>-0.008407</td>\n",
              "      <td>-0.007984</td>\n",
              "      <td>-0.008907</td>\n",
              "      <td>...</td>\n",
              "      <td>0.005042</td>\n",
              "      <td>0.003523</td>\n",
              "      <td>-0.000891</td>\n",
              "      <td>-0.006393</td>\n",
              "      <td>-0.013104</td>\n",
              "      <td>-0.016955</td>\n",
              "      <td>-0.020604</td>\n",
              "      <td>-0.022316</td>\n",
              "      <td>-0.021600</td>\n",
              "      <td>-0.017426</td>\n",
              "      <td>-0.014110</td>\n",
              "      <td>-0.010518</td>\n",
              "      <td>-0.010072</td>\n",
              "      <td>-0.012165</td>\n",
              "      <td>-0.015440</td>\n",
              "      <td>-0.014914</td>\n",
              "      <td>-0.004810</td>\n",
              "      <td>0.014265</td>\n",
              "      <td>0.029857</td>\n",
              "      <td>0.035273</td>\n",
              "      <td>0.034491</td>\n",
              "      <td>0.023465</td>\n",
              "      <td>0.002949</td>\n",
              "      <td>-0.016746</td>\n",
              "      <td>-0.026963</td>\n",
              "      <td>-0.031307</td>\n",
              "      <td>-0.026733</td>\n",
              "      <td>-0.007885</td>\n",
              "      <td>0.012531</td>\n",
              "      <td>0.019509</td>\n",
              "      <td>0.015451</td>\n",
              "      <td>0.002879</td>\n",
              "      <td>-0.011495</td>\n",
              "      <td>-0.018512</td>\n",
              "      <td>-0.018537</td>\n",
              "      <td>-0.017572</td>\n",
              "      <td>-0.016916</td>\n",
              "      <td>-0.017678</td>\n",
              "      <td>-0.021645</td>\n",
              "      <td>0.012454</td>\n",
              "    </tr>\n",
              "  </tbody>\n",
              "</table>\n",
              "<p>3 rows × 4097 columns</p>\n",
              "</div>"
            ],
            "text/plain": [
              "   Unnamed: 0  Unnamed: 1  ...  Unnamed: 4095  Unnamed: 4096\n",
              "0    1.284267   -2.031725  ...       4.403947      -1.045617\n",
              "1    5.537945    5.206952  ...      -2.476041      -3.040295\n",
              "2   -0.018933    0.001791  ...      -0.021645       0.012454\n",
              "\n",
              "[3 rows x 4097 columns]"
            ]
          },
          "metadata": {
            "tags": []
          },
          "execution_count": 28
        }
      ]
    },
    {
      "cell_type": "code",
      "metadata": {
        "colab": {
          "base_uri": "https://localhost:8080/",
          "height": 366
        },
        "id": "KORgCX2Wio0g",
        "outputId": "7281d4ae-9c75-4af3-a679-222b59204d5e"
      },
      "source": [
        "# Elbow plot\n",
        "\n",
        "plt.figure(figsize=(12,6))\n",
        "plt.plot( clusters_df.num_clusters, clusters_df.cluster_errors, marker = \"o\" )\n",
        "plt.show()"
      ],
      "execution_count": null,
      "outputs": [
        {
          "output_type": "display_data",
          "data": {
            "image/png": "[encoded data removed]",
            "text/plain": [
              "<Figure size 864x432 with 1 Axes>"
            ]
          },
          "metadata": {
            "tags": [],
            "needs_background": "light"
          }
        }
      ]
    },
    {
      "cell_type": "markdown",
      "metadata": {
        "id": "KYMrRaf6x6CY"
      },
      "source": [
        "#Feature importance using XGBoost"
      ]
    },
    {
      "cell_type": "code",
      "metadata": {
        "id": "LXaJJ-QS9L-p"
      },
      "source": [
        "from xgboost import plot_importance\n",
        "from matplotlib import pyplot"
      ],
      "execution_count": null,
      "outputs": []
    },
    {
      "cell_type": "code",
      "metadata": {
        "colab": {
          "base_uri": "https://localhost:8080/",
          "height": 294
        },
        "id": "MBZdPZ9L9L8T",
        "outputId": "0d11e896-3243-43b0-9662-cbfb75649e91"
      },
      "source": [
        "# plot feature importance\n",
        "plot_importance(model)\n",
        "pyplot.show()"
      ],
      "execution_count": null,
      "outputs": [
        {
          "output_type": "display_data",
          "data": {
            "image/png": "[encoded data removed]",
            "text/plain": [
              "<Figure size 432x288 with 1 Axes>"
            ]
          },
          "metadata": {
            "tags": [],
            "needs_background": "light"
          }
        }
      ]
    }
  ]
}